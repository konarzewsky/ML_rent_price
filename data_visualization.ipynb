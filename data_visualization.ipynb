{
 "cells": [
  {
   "cell_type": "markdown",
   "id": "5065c5df",
   "metadata": {},
   "source": [
    "# ANALIZA DANYCH"
   ]
  },
  {
   "cell_type": "code",
   "execution_count": null,
   "id": "329401f7",
   "metadata": {
    "scrolled": true
   },
   "outputs": [],
   "source": [
    "import plotly.graph_objects as go\n",
    "from plotly.subplots import make_subplots\n",
    "import pandas as pd"
   ]
  },
  {
   "cell_type": "code",
   "execution_count": null,
   "id": "f46cd9de",
   "metadata": {},
   "outputs": [],
   "source": [
    "df = pd.read_csv(\"data.csv\")\n",
    "df = df.drop(['id'], axis=1)\n",
    "MAPBOX_ACCESS_TOKEN = \"\" # add mapbox token here"
   ]
  },
  {
   "cell_type": "markdown",
   "id": "7cfc84b3",
   "metadata": {},
   "source": [
    "### Rozmiar zbioru danych"
   ]
  },
  {
   "cell_type": "code",
   "execution_count": null,
   "id": "da564914",
   "metadata": {
    "scrolled": false
   },
   "outputs": [],
   "source": [
    "print(\"Liczba obserwacji:\",df.shape[0],\"\\nLiczba zmiennych:\",df.shape[1])"
   ]
  },
  {
   "cell_type": "code",
   "execution_count": null,
   "id": "5be6ceaf",
   "metadata": {},
   "outputs": [],
   "source": [
    "centers = {\n",
    "    'warszawa':(52.247160, 21.023756),\n",
    "    'krakow':(50.054067, 19.939634),\n",
    "    'poznan':(52.407567, 16.933073),\n",
    "    'wroclaw':(51.109861, 17.027047),\n",
    "    'gdansk':(54.366607, 18.626162),\n",
    "    'gdynia':(54.510521, 18.506044),\n",
    "    'szczecin':(53.424296, 14.578268),\n",
    "    'bialystok':(53.133166, 23.159154),\n",
    "    'katowice':(50.220179, 19.019888),\n",
    "    'lublin':(51.237375, 22.564449),\n",
    "    'lodz':(51.764111, 19.481958),\n",
    "}\n",
    "\n",
    "cities = {\n",
    "    \"warszawa\":1,\n",
    "    \"krakow\":6,\n",
    "    \"poznan\":7,\n",
    "    \"wroclaw\":5,\n",
    "    \"gdansk\":2,\n",
    "    \"gdynia\":3,\n",
    "    \"szczecin\":9,\n",
    "    \"bialystok\":13,\n",
    "    \"katowice\":14,\n",
    "    \"lublin\":12,\n",
    "    \"lodz\":8,\n",
    "}"
   ]
  },
  {
   "cell_type": "code",
   "execution_count": null,
   "id": "460a2308",
   "metadata": {},
   "outputs": [],
   "source": [
    "from shapely import wkb\n",
    "\n",
    "def get_map_shapes(df_shapes):\n",
    "    df = pd.DataFrame(\n",
    "        columns=[\"longitude\", \"latitude\", \"geo_object_type\", \"slug\", \"id\"]\n",
    "    )\n",
    "    for i in range(len(df_shapes)):\n",
    "        shape = wkb.loads(str(df_shapes.at[i, \"boundaries\"]), hex=True)\n",
    "        df_coord = pd.DataFrame(\n",
    "            list(shape.exterior.coords), columns=[\"longitude\", \"latitude\"]\n",
    "        )\n",
    "        df_coord[\"geo_object_type\"] = df_shapes.at[i, \"geo_object_type\"]\n",
    "        df_coord[\"slug\"] = df_shapes.at[i, \"slug\"]\n",
    "        df_coord[\"city_id\"] = df_shapes.at[i, \"city_id\"]\n",
    "        df_coord[\"id\"] = df_shapes.at[i, \"id\"]\n",
    "        df = pd.concat([df, df_coord], ignore_index=True)\n",
    "    return df\n",
    "\n",
    "\n",
    "boundaries = pd.read_csv(\"districts_boundaries.csv\")\n",
    "BOUNDARIES = get_map_shapes(boundaries)"
   ]
  },
  {
   "cell_type": "code",
   "execution_count": null,
   "id": "927e7fad",
   "metadata": {},
   "outputs": [],
   "source": [
    "centers = {\n",
    "    1:5,\n",
    "    6:139,\n",
    "    7:184,\n",
    "    5:130,\n",
    "    2:56,\n",
    "    3:59,\n",
    "    8:201,\n",
    "    14:278,\n",
    "    9:206,\n",
    "    12:208,\n",
    "    13:235,\n",
    "}\n",
    "\n",
    "def map_offers(df, city, color):\n",
    "    fig = go.Figure()\n",
    "    if city:\n",
    "        for j in BOUNDARIES[\"id\"].unique():\n",
    "            fig.add_trace(\n",
    "                go.Scattermapbox(\n",
    "                    lat=BOUNDARIES[BOUNDARIES[\"id\"] == j][\"latitude\"],\n",
    "                    lon=BOUNDARIES[BOUNDARIES[\"id\"] == j][\"longitude\"],\n",
    "                    mode=\"lines\",\n",
    "                    fill = \"toself\" if j in centers.values() else None,\n",
    "                    fillcolor=color if j in centers.values() else None,\n",
    "                    line={\"color\": \"grey\"},\n",
    "                    showlegend=False,\n",
    "                ),\n",
    "            )\n",
    "    fig.add_trace(\n",
    "        go.Scattermapbox(\n",
    "            name=city,\n",
    "            lat=df[\"latitude\"],\n",
    "            lon=df[\"longitude\"],\n",
    "            mode=\"markers\",\n",
    "            marker=go.scattermapbox.Marker(\n",
    "                size=5, color=\"red\", opacity=0.8\n",
    "            ),\n",
    "        )\n",
    "    )\n",
    "    return fig.update_layout(\n",
    "        hovermode=\"closest\",\n",
    "        mapbox=dict(\n",
    "            accesstoken=MAPBOX_ACCESS_TOKEN,\n",
    "            bearing=0,\n",
    "            center=go.layout.mapbox.Center(\n",
    "                lat=centers[city][0], lon=centers[city][1]\n",
    "            ) if city!=\"all\" else go.layout.mapbox.Center(\n",
    "                lat=52.065221, lon=19.252482\n",
    "            ),\n",
    "            pitch=0,\n",
    "            zoom=5,\n",
    "        ),\n",
    "        legend=dict(yanchor=\"top\", y=0.99, xanchor=\"left\", x=0.01),\n",
    "        mapbox_style=\"light\",\n",
    "        margin={\"r\": 0, \"t\": 0, \"l\": 0, \"b\": 0},\n",
    "    )"
   ]
  },
  {
   "cell_type": "code",
   "execution_count": null,
   "id": "17c6025a",
   "metadata": {},
   "outputs": [],
   "source": [
    "HISTOGRAMS_VARIABLES = {\n",
    "    \"price\": [1, 1],\n",
    "    \"size\": [1, 2],\n",
    "    \"floor\": [2, 1],\n",
    "    \"floors\": [2, 2],\n",
    "    \"rooms\": [3, 1],\n",
    "    \"year_built\": [3, 2],\n",
    "}\n",
    "\n",
    "BAR_VARIABLES = {\n",
    "    \"standard\": [1, 1],\n",
    "    \"balcony\": [1, 2],\n",
    "    \"furnished\": [1, 3],\n",
    "    \"parking\": [2, 1],\n",
    "    \"elevator\": [2, 2],\n",
    "    \"separate_kitchen\": [2, 3],\n",
    "    \"storage\": [3, 1],\n",
    "    \"internet\": [3, 2],\n",
    "    \"tv\": [3, 3],\n",
    "}"
   ]
  },
  {
   "cell_type": "code",
   "execution_count": null,
   "id": "8ff7bdc8",
   "metadata": {},
   "outputs": [],
   "source": [
    "def graph_listings_histograms(df, variables):\n",
    "    fig = make_subplots(rows=4, cols=2)\n",
    "    for var in variables.keys():\n",
    "        fig.add_trace(\n",
    "            go.Histogram(\n",
    "                x=df[df[var] != \"\"][var],\n",
    "                autobinx=False,\n",
    "                nbinsx=50,\n",
    "            ),\n",
    "            row=variables[var][0],\n",
    "            col=variables[var][1],\n",
    "        )\n",
    "        fig.add_vline(\n",
    "            x=df[df[var] != \"\"][var].mean(),\n",
    "            annotation_text=\"Mean: \" + str(round(df[df[var] != \"\"][var].mean(), 2)),\n",
    "            annotation_position=\"top\",\n",
    "            line_width=2,\n",
    "            line_dash=\"dash\",\n",
    "            line_color=\"black\",\n",
    "            row=variables[var][0],\n",
    "            col=variables[var][1],\n",
    "        )\n",
    "    fig.update_layout(\n",
    "        height=1000,\n",
    "        margin={\"r\": 0, \"t\": 20, \"l\": 0, \"b\": 0},\n",
    "        showlegend=False,\n",
    "        xaxis1={\"title\": list(variables.keys())[0]},\n",
    "        xaxis2={\"title\": list(variables.keys())[1]},\n",
    "        xaxis3={\"title\": list(variables.keys())[2]},\n",
    "        xaxis4={\"title\": list(variables.keys())[3]},\n",
    "        xaxis5={\"title\": list(variables.keys())[4]},\n",
    "        xaxis6={\"title\": list(variables.keys())[5]},\n",
    "        bargap=0.1,\n",
    "    )\n",
    "    return fig"
   ]
  },
  {
   "cell_type": "code",
   "execution_count": null,
   "id": "e0748066",
   "metadata": {},
   "outputs": [],
   "source": [
    "def graph_listings_bar(df, variables):\n",
    "    fig = make_subplots(rows=3, cols=3)\n",
    "    for var in variables.keys():\n",
    "        if var != \"standard\":\n",
    "            fig.add_trace(\n",
    "                go.Bar(\n",
    "                    x=[\"True\",\"False\"],\n",
    "                    y=[df[df[var]==True].shape[0],df[df[var]==False].shape[0]]\n",
    "                ),\n",
    "                row=variables[var][0],\n",
    "                col=variables[var][1],\n",
    "            )\n",
    "        else:\n",
    "            fig.add_trace(\n",
    "                go.Bar(\n",
    "                    x=[\"niski\",\"dobry\",\"wysoki\"],\n",
    "                    y=[df[df[var]==\"niski\"].shape[0], df[df[var]==\"dobry\"].shape[0], df[df[var]==\"wysoki\"].shape[0]]\n",
    "                ),\n",
    "                row=variables[var][0],\n",
    "                col=variables[var][1],\n",
    "            )\n",
    "        fig.update_layout(\n",
    "        height=1000,\n",
    "        margin={\"r\": 0, \"t\": 20, \"l\": 0, \"b\": 0},\n",
    "        showlegend=False,\n",
    "        xaxis1={\"title\": list(variables.keys())[0]},\n",
    "        xaxis2={\"title\": list(variables.keys())[1]},\n",
    "        xaxis3={\"title\": list(variables.keys())[2]},\n",
    "        xaxis4={\"title\": list(variables.keys())[3]},\n",
    "        xaxis5={\"title\": list(variables.keys())[4]},\n",
    "        xaxis6={\"title\": list(variables.keys())[5]},\n",
    "        xaxis7={\"title\": list(variables.keys())[6]},\n",
    "        xaxis8={\"title\": list(variables.keys())[7]},\n",
    "        xaxis9={\"title\": list(variables.keys())[8]},\n",
    "        bargap=0.1,\n",
    "    )\n",
    "    return fig"
   ]
  },
  {
   "cell_type": "markdown",
   "id": "22b4bd81",
   "metadata": {},
   "source": [
    "## Interaktywna mapa"
   ]
  },
  {
   "cell_type": "code",
   "execution_count": null,
   "id": "d1bced90",
   "metadata": {},
   "outputs": [],
   "source": [
    "map_offers(df, \"all\", \"yellow\")"
   ]
  },
  {
   "cell_type": "markdown",
   "id": "c609f2d6",
   "metadata": {},
   "source": [
    "### Zmienne ciągłe"
   ]
  },
  {
   "cell_type": "code",
   "execution_count": null,
   "id": "0c546b05",
   "metadata": {
    "scrolled": true
   },
   "outputs": [],
   "source": [
    "graph_listings_histograms(df, HISTOGRAMS_VARIABLES)"
   ]
  },
  {
   "cell_type": "markdown",
   "id": "e3a51f42",
   "metadata": {},
   "source": [
    "### Zmienne dyskretne"
   ]
  },
  {
   "cell_type": "code",
   "execution_count": null,
   "id": "ce025004",
   "metadata": {
    "scrolled": true
   },
   "outputs": [],
   "source": [
    "graph_listings_bar(df, BAR_VARIABLES)"
   ]
  },
  {
   "cell_type": "markdown",
   "id": "dd8bc0e0",
   "metadata": {},
   "source": [
    "## Satystyki opisowe"
   ]
  },
  {
   "cell_type": "code",
   "execution_count": null,
   "id": "660fc3de",
   "metadata": {},
   "outputs": [],
   "source": [
    "df.describe()"
   ]
  },
  {
   "cell_type": "code",
   "execution_count": null,
   "id": "c72cba3a",
   "metadata": {
    "scrolled": true
   },
   "outputs": [],
   "source": [
    "df.describe(include='object')"
   ]
  }
 ],
 "metadata": {
  "kernelspec": {
   "display_name": "Python 3 (ipykernel)",
   "language": "python",
   "name": "python3"
  },
  "language_info": {
   "codemirror_mode": {
    "name": "ipython",
    "version": 3
   },
   "file_extension": ".py",
   "mimetype": "text/x-python",
   "name": "python",
   "nbconvert_exporter": "python",
   "pygments_lexer": "ipython3",
   "version": "3.8.10"
  }
 },
 "nbformat": 4,
 "nbformat_minor": 5
}
