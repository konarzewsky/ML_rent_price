{
 "cells": [
  {
   "cell_type": "markdown",
   "id": "0c11016b",
   "metadata": {},
   "source": [
    "# Comparison of machine learning regression models"
   ]
  },
  {
   "cell_type": "markdown",
   "id": "b7c63c79",
   "metadata": {},
   "source": [
    "Models goal: predicting ```monthly rent price``` for an apartment in the biggest polish cities."
   ]
  },
  {
   "cell_type": "markdown",
   "id": "bbc65873",
   "metadata": {},
   "source": [
    "## Preparing data"
   ]
  },
  {
   "cell_type": "code",
   "execution_count": null,
   "id": "dbbbd683",
   "metadata": {},
   "outputs": [],
   "source": [
    "import warnings\n",
    "import numpy as np\n",
    "import seaborn as sns\n",
    "import matplotlib.pyplot as plt\n",
    "import pandas as pd\n",
    "\n",
    "warnings.filterwarnings('ignore')\n",
    "pd.set_option(\"display.max_columns\", None)"
   ]
  },
  {
   "cell_type": "markdown",
   "id": "a5675a40",
   "metadata": {},
   "source": [
    "Loading data, removing selected columns and limiting the dataset to rent prices <= 10000 PLN/month to get rid of extreme outliers."
   ]
  },
  {
   "cell_type": "code",
   "execution_count": null,
   "id": "c9f243aa",
   "metadata": {},
   "outputs": [],
   "source": [
    "df = pd.read_csv(\"data.csv\")\n",
    "df = df[df[\"price\"] <= 10000]\n",
    "print(\"Number of observations:\", df.shape[0])\n",
    "print(\"Number of variables:\", df.shape[1])"
   ]
  },
  {
   "cell_type": "markdown",
   "id": "87fc515e",
   "metadata": {},
   "source": [
    "#### Add distance to city centre"
   ]
  },
  {
   "cell_type": "code",
   "execution_count": null,
   "id": "638e4a87",
   "metadata": {},
   "outputs": [],
   "source": [
    "boundaries = pd.read_csv(\"districts_boundaries.csv\")"
   ]
  },
  {
   "cell_type": "code",
   "execution_count": null,
   "id": "42a68434",
   "metadata": {},
   "outputs": [],
   "source": [
    "from shapely import wkb\n",
    "\n",
    "def get_map_shapes(df_shapes):\n",
    "    df = pd.DataFrame(\n",
    "        columns=[\"longitude\", \"latitude\", \"city_id\", \"district\", \"district_id\"]\n",
    "    )\n",
    "    for i in range(len(df_shapes)):\n",
    "        shape = wkb.loads(str(df_shapes.at[i, \"boundaries\"]), hex=True)\n",
    "        df_coord = pd.DataFrame(\n",
    "            list(shape.exterior.coords), columns=[\"longitude\", \"latitude\"]\n",
    "        )\n",
    "        df_coord[\"district\"] = df_shapes.at[i, \"slug\"]\n",
    "        df_coord[\"city_id\"] = df_shapes.at[i, \"city_id\"]\n",
    "        df_coord[\"district_id\"] = df_shapes.at[i, \"id\"]\n",
    "        df = pd.concat([df, df_coord], ignore_index=True)\n",
    "    return df \n",
    "\n",
    "boundaries = get_map_shapes(boundaries)\n",
    "boundaries[\"coordinates\"] = list(zip(boundaries[\"latitude\"], boundaries[\"longitude\"]))\n",
    "boundaries.sample(3)"
   ]
  },
  {
   "cell_type": "code",
   "execution_count": null,
   "id": "45530fd8",
   "metadata": {},
   "outputs": [],
   "source": [
    "boundaries = boundaries.groupby(['district','district_id','city_id'])['coordinates'].apply(list).reset_index(name='polygon')\n",
    "boundaries.sample(3)"
   ]
  },
  {
   "cell_type": "code",
   "execution_count": null,
   "id": "e2b60b0d",
   "metadata": {},
   "outputs": [],
   "source": [
    "from shapely.geometry.polygon import Polygon\n",
    "from shapely import wkt\n",
    "\n",
    "for j in range(len(boundaries)):\n",
    "    polygon = Polygon(boundaries.at[j,'polygon'])\n",
    "    centroid = polygon.centroid.coords[0]\n",
    "    boundaries.at[j,'centroid_lat'] = centroid[0]\n",
    "    boundaries.at[j,'centroid_lon'] = centroid[1]\n",
    "    \n",
    "boundaries.head(3)"
   ]
  },
  {
   "cell_type": "code",
   "execution_count": null,
   "id": "5f1914a5",
   "metadata": {},
   "outputs": [],
   "source": [
    "cities = {\n",
    "    1:\"warszawa\",\n",
    "    6:\"krakow\",\n",
    "    7:\"poznan\",\n",
    "    5:\"wroclaw\",\n",
    "    2:\"gdansk\",\n",
    "    3:\"gdynia\",\n",
    "    9:\"szczecin\",\n",
    "    13:\"bialystok\",\n",
    "    14:\"katowice\",\n",
    "    12:\"lublin\",\n",
    "    8:\"lodz\",\n",
    "    10:\"bydgoszcz\",\n",
    "}\n",
    "\n",
    "cities = {v: k for k, v in cities.items()}\n",
    "\n",
    "centers = {\n",
    "    1:5,\n",
    "    6:139,\n",
    "    7:184,\n",
    "    5:130,\n",
    "    2:56,\n",
    "    3:59,\n",
    "    8:201,\n",
    "    14:278,\n",
    "    9:206,\n",
    "    12:208,\n",
    "    13:235,\n",
    "}\n",
    "\n",
    "from math import radians, cos, sin, asin, sqrt\n",
    "\n",
    "def haversine(lon1, lat1, lon2, lat2):\n",
    "    lon1, lat1, lon2, lat2 = map(radians, [lon1, lat1, lon2, lat2]) \n",
    "    dlon = lon2 - lon1 \n",
    "    dlat = lat2 - lat1 \n",
    "    a = sin(dlat/2)**2 + cos(lat1) * cos(lat2) * sin(dlon/2)**2\n",
    "    c = 2 * asin(sqrt(a)) \n",
    "    r = 6371\n",
    "    return round(c * r * 1000)\n",
    "\n",
    "df['distance_to_centre'] = df.apply(lambda row : haversine(\n",
    "    row['longitude'], row['latitude'],\n",
    "    boundaries[boundaries[\"district_id\"] == centers[cities[row[\"city\"]]]][\"centroid_lon\"].iloc[0],\n",
    "    boundaries[boundaries[\"district_id\"] == centers[cities[row[\"city\"]]]][\"centroid_lat\"].iloc[0],\n",
    "), axis = 1)"
   ]
  },
  {
   "cell_type": "code",
   "execution_count": null,
   "id": "4a2478d7",
   "metadata": {},
   "outputs": [],
   "source": [
    "df = df[df[\"distance_to_centre\"] <= 15000]\n",
    "print(\"Number of observations:\", df.shape[0])\n",
    "print(\"Number of variables:\", df.shape[1])"
   ]
  },
  {
   "cell_type": "markdown",
   "id": "04be64a2",
   "metadata": {},
   "source": [
    "Data sample"
   ]
  },
  {
   "cell_type": "code",
   "execution_count": null,
   "id": "26351941",
   "metadata": {
    "scrolled": false
   },
   "outputs": [],
   "source": [
    "df.sample(5)"
   ]
  },
  {
   "cell_type": "markdown",
   "id": "7dab1bfc",
   "metadata": {},
   "source": [
    "Descriptive statistics of all variables."
   ]
  },
  {
   "cell_type": "code",
   "execution_count": null,
   "id": "04588c15",
   "metadata": {
    "scrolled": false
   },
   "outputs": [],
   "source": [
    "df.describe(include='all')"
   ]
  },
  {
   "cell_type": "markdown",
   "id": "d742cc6a",
   "metadata": {},
   "source": [
    "#### Distance to closesnt competitive offer"
   ]
  },
  {
   "cell_type": "code",
   "execution_count": null,
   "id": "eb993e7c",
   "metadata": {
    "scrolled": false
   },
   "outputs": [],
   "source": [
    "df.reset_index(inplace=True, drop=True)\n",
    "    \n",
    "from sklearn.neighbors import BallTree\n",
    "\n",
    "coords = df[[\"latitude\",\"longitude\"]]\n",
    "distance = 0.500 # km\n",
    "earth_radius = 6371\n",
    "radius = distance / earth_radius\n",
    "tree = BallTree( np.radians(coords), leaf_size=10, metric='haversine')\n",
    "df[\"competition500m\"] = tree.query_radius( np.radians(coords), r=radius, count_only=True)\n",
    "\n",
    "df.sample(5)"
   ]
  },
  {
   "cell_type": "code",
   "execution_count": null,
   "id": "4ec399e5",
   "metadata": {},
   "outputs": [],
   "source": [
    "# list of binary/categorical columns\n",
    "dummy_cols = ['balcony', 'elevator', 'furnished', 'internet', 'parking', 'separate_kitchen', 'storage', 'tv', 'building_material', 'building_type', 'standard', 'windows', 'city']\n",
    "# target variable\n",
    "Y = df[\"price\"]\n",
    "# independent variables\n",
    "X = df[df.columns.difference(['price'])]\n",
    "# transform binary/categorical variables into dummy variables\n",
    "dummies = pd.get_dummies(data=X[dummy_cols])\n",
    "# list of numerical columns\n",
    "X_numerical = X.drop(dummy_cols+[\"district\"], axis=1).astype('float64')\n",
    "numerical_cols = X_numerical.columns\n",
    "# dataframe with all variables except target variable\n",
    "X = pd.concat([X_numerical, dummies, X[\"district\"]], axis=1)\n",
    "# normalizing numerical variables\n",
    "X[numerical_cols] = X[numerical_cols].apply(lambda x: (x-x.mean())/x.std())\n",
    "# transforming true/false to 1/0 for binary variables\n",
    "for col in [\"balcony\", \"elevator\", \"furnished\", \"internet\", \"parking\", \"separate_kitchen\", \"storage\", \"tv\"]:\n",
    "    X[col] = X[col].astype(int)"
   ]
  },
  {
   "cell_type": "markdown",
   "id": "9b8fb616",
   "metadata": {},
   "source": [
    "Data sample after preparation."
   ]
  },
  {
   "cell_type": "code",
   "execution_count": null,
   "id": "e0c4887f",
   "metadata": {
    "scrolled": false
   },
   "outputs": [],
   "source": [
    "X.tail(5)"
   ]
  },
  {
   "cell_type": "markdown",
   "id": "888dd139",
   "metadata": {},
   "source": [
    "Checking for missing values and data types."
   ]
  },
  {
   "cell_type": "code",
   "execution_count": null,
   "id": "4f1cc6b7",
   "metadata": {
    "scrolled": true
   },
   "outputs": [],
   "source": [
    "X.info()"
   ]
  },
  {
   "cell_type": "code",
   "execution_count": null,
   "id": "2434362a",
   "metadata": {},
   "outputs": [],
   "source": [
    "from scipy.stats import pearsonr\n",
    "pearsonr(X[\"floor\"], X[\"floors\"])"
   ]
  },
  {
   "cell_type": "code",
   "execution_count": null,
   "id": "37e0f6ad",
   "metadata": {
    "scrolled": false
   },
   "outputs": [],
   "source": [
    "import plotly.express as px\n",
    "\n",
    "cols = ['floor','floors','latitude','longitude','rooms','size','year_built', 'distance_to_centre', 'competition500m']\n",
    "\n",
    "def corr_plot(df, method='pearson'):\n",
    "    corr = df.corr(method=method).round(2)\n",
    "    fig = px.imshow(\n",
    "        corr,\n",
    "        color_continuous_scale='oranges',\n",
    "        text_auto=True,\n",
    "        aspect=\"auto\",\n",
    "#         title=\"Correlation matrix\",\n",
    "#         width=1000, height=800,\n",
    "    )\n",
    "# .update_layout(transparent_plot)\n",
    "    fig.update_layout(\n",
    "        coloraxis_showscale=False,\n",
    "        font_family=\"Times New Roman\",\n",
    "        font_size=20,\n",
    "    )\n",
    "    return fig\n",
    "\n",
    "corr_plot(X[cols].rename(columns={\n",
    "    \"floors\": \"number of floors\",\n",
    "    \"rooms\": \"number of rooms\",\n",
    "    \"size\": \"living area\",\n",
    "    \"year_built\": \"year of construction\",\n",
    "    \"distance_to_centre\": \"distance to city centre\",\n",
    "    \"competition500m\": \"competitive offers\",\n",
    "}))"
   ]
  },
  {
   "cell_type": "markdown",
   "id": "5213fae0",
   "metadata": {},
   "source": [
    "There are no missing values in the dataset."
   ]
  },
  {
   "cell_type": "markdown",
   "id": "57f82c4c",
   "metadata": {},
   "source": [
    "## Feature selection"
   ]
  },
  {
   "cell_type": "code",
   "execution_count": null,
   "id": "aaec8f69",
   "metadata": {
    "scrolled": false
   },
   "outputs": [],
   "source": [
    "from sklearn.feature_selection import SelectKBest, mutual_info_regression\n",
    "from collections import Counter\n",
    "from numpy import set_printoptions\n",
    "\n",
    "cols_before = list(X.columns)\n",
    "cols_before = [c for c in cols_before if \"city\" not in c and \"district\" not in c]\n",
    "cols_dropped = []\n",
    "mi = pd.DataFrame({\"variable\":cols_before})\n",
    "for i in range(5):\n",
    "    # selecting 20 best features\n",
    "    selector = SelectKBest(mutual_info_regression, k=20).fit(X[cols_before], Y)\n",
    "    cols = selector.get_support(indices=True)\n",
    "    X_n = X[cols_before].iloc[:,cols]\n",
    "    # list of columns after applying the algorithm\n",
    "    cols_after = list(X_n.columns)\n",
    "    cols_dropped += (list(set(cols_before) - set(cols_after)))\n",
    "    set_printoptions(precision=3)\n",
    "    mi[f\"iter_{i}\"] = selector.scores_\n",
    "\n",
    "mi['avg'] = mi[[f'iter_{i}' for  i in range(5)]].mean(axis=1)\n",
    "mi = mi.sort_values(by=[\"avg\"], ignore_index=True, ascending=False)\n",
    "mi"
   ]
  },
  {
   "cell_type": "code",
   "execution_count": null,
   "id": "2370228c",
   "metadata": {},
   "outputs": [],
   "source": [
    "variables_to_drop = mi.tail(10)[\"variable\"].tolist()\n",
    "variables_to_drop"
   ]
  },
  {
   "cell_type": "code",
   "execution_count": null,
   "id": "27f45a8f",
   "metadata": {},
   "outputs": [],
   "source": [
    "X.drop(variables_to_drop, axis=1, inplace=True)\n",
    "print(\"\\nDataframe shape:\", X.shape)"
   ]
  },
  {
   "cell_type": "markdown",
   "id": "e0fea603",
   "metadata": {},
   "source": [
    "## Train test split"
   ]
  },
  {
   "cell_type": "code",
   "execution_count": null,
   "id": "4439aca2",
   "metadata": {
    "scrolled": false
   },
   "outputs": [],
   "source": [
    "from sklearn.model_selection import train_test_split\n",
    "\n",
    "X_train, X_test, y_train, y_test = train_test_split(X, Y, test_size=0.2, random_state=101)\n",
    "train = X_train.merge(y_train.to_frame(), left_index=True, right_index=True)\n",
    "test = X_test.merge(y_test.to_frame(), left_index=True, right_index=True)\n",
    "print(\"train size:\", X_train.shape[0])\n",
    "print(\"test size:\", X_test.shape[0])\n",
    "\n",
    "X_train_districts = X_train[\"district\"]\n",
    "\n",
    "cols_coords = [c for c in X_train.columns if \"city\" not in c and \"district\" not in c and \"distance\" not in c and \"competition\" not in c]\n",
    "cols_spatial = [c for c in X_train.columns if \"latitude\" not in c and \"longitude\" not in c and \"district\" not in c]\n",
    "X_train_coord = X_train[cols_coords]\n",
    "X_train_spatial = X_train[cols_spatial]\n",
    "\n",
    "cols_coords = [c for c in X_test.columns if \"city\" not in c and \"district\" not in c and \"distance\" not in c and \"competition\" not in c]\n",
    "cols_spatial = [c for c in X_test.columns if \"latitude\" not in c and \"longitude\" not in c and \"district\" not in c]\n",
    "X_test_coord = X_test[cols_coords]\n",
    "X_test_spatial = X_test[cols_spatial]"
   ]
  },
  {
   "cell_type": "code",
   "execution_count": null,
   "id": "dfe06cce",
   "metadata": {},
   "outputs": [],
   "source": [
    "d = pd.DataFrame(\n",
    "    {\n",
    "        \"lat\": X_test_coord[\"latitude\"],\n",
    "        \"lon\": X_test_coord[\"longitude\"],\n",
    "        \"price\": y_test,\n",
    "    }\n",
    ")\n",
    "\n",
    "X_train_coord[[col for col in numerical_cols if col in X_train_coord.columns]] = X_train_coord[[col for col in numerical_cols if col in X_train_coord.columns]].apply(lambda x: (x-x.mean())/x.std())\n",
    "X_train_spatial[[col for col in numerical_cols if col in X_train_spatial.columns]] = X_train_spatial[[col for col in numerical_cols if col in X_train_spatial.columns]].apply(lambda x: (x-x.mean())/x.std())\n",
    "\n",
    "X_test_coord[[col for col in numerical_cols if col in X_test_coord.columns]] = X_test_coord[[col for col in numerical_cols if col in X_test_coord.columns]].apply(lambda x: (x-x.mean())/x.std())\n",
    "X_test_spatial[[col for col in numerical_cols if col in X_test_spatial.columns]] = X_test_spatial[[col for col in numerical_cols if col in X_test_spatial.columns]].apply(lambda x: (x-x.mean())/x.std())"
   ]
  },
  {
   "cell_type": "code",
   "execution_count": null,
   "id": "eaffc63b",
   "metadata": {},
   "outputs": [],
   "source": [
    "from shapely.geometry import Point\n",
    "import geopandas\n",
    "\n",
    "X_train_coord['geometry'] = X_train_coord.apply(lambda x: Point((float(x.longitude), float(x.latitude))), axis=1)\n",
    "X_train_coord = geopandas.GeoDataFrame(X_train_coord, geometry='geometry')\n",
    "X_train_coord.to_file('X_train_coord.shp', driver='ESRI Shapefile')\n",
    "\n",
    "X_train_spatial['geometry'] = X_train_coord['geometry']\n",
    "X_train_spatial = geopandas.GeoDataFrame(X_train_spatial, geometry='geometry')\n",
    "X_train_spatial.to_file('X_train_spatial.shp', driver='ESRI Shapefile')\n",
    "\n",
    "X_test_coord['geometry'] = X_test_coord.apply(lambda x: Point((float(x.longitude), float(x.latitude))), axis=1)\n",
    "X_test_coord = geopandas.GeoDataFrame(X_test_coord, geometry='geometry')\n",
    "X_test_coord.to_file('X_test_coord.shp', driver='ESRI Shapefile')\n",
    "\n",
    "X_test_spatial['geometry'] = X_test_coord['geometry']\n",
    "X_test_spatial = geopandas.GeoDataFrame(X_test_spatial, geometry='geometry')\n",
    "X_test_spatial.to_file('X_test_spatial.shp', driver='ESRI Shapefile')"
   ]
  },
  {
   "cell_type": "markdown",
   "id": "38500996",
   "metadata": {},
   "source": [
    "## Evaluation methods"
   ]
  },
  {
   "cell_type": "code",
   "execution_count": null,
   "id": "eed1012f",
   "metadata": {},
   "outputs": [],
   "source": [
    "from sklearn.metrics import mean_squared_error, mean_absolute_error, median_absolute_error, r2_score\n",
    "\n",
    "def percentage_error(y_true, y_pred, metric):\n",
    "    if metric == \"mean\":\n",
    "        mape = np.mean(np.abs((y_true - y_pred)/y_true))*100\n",
    "    elif metric == \"median\":\n",
    "        mape = np.median(np.abs((y_true - y_pred)/y_true))*100\n",
    "    else:\n",
    "        mape = None\n",
    "    return mape\n",
    "\n",
    "def eval_metrics(metrics_table, model_name, y_true, y_pred, add_to_results=True):\n",
    "    assert len(y_true) == len(y_pred)\n",
    "    mse = mean_squared_error(y_true, y_pred)\n",
    "    rmse = mean_squared_error(y_true, y_pred, squared=False)\n",
    "    mae = mean_absolute_error(y_true, y_pred)\n",
    "    mape = percentage_error(y_true, y_pred, \"mean\")\n",
    "    medae = median_absolute_error(y_true, y_pred)\n",
    "    medape = percentage_error(y_true, y_pred, \"median\") \n",
    "    r2 = r2_score(y_true, y_pred)\n",
    "    print(model_name)\n",
    "    print(\"------------------------\")\n",
    "    print(\"MSE:\", round(mse, 4)) # mean squared error\n",
    "    print(\"RMSE:\", round(rmse, 4)) # root mean squared error\n",
    "    print(\"MAE:\", round(mae, 4)) # mean absolute error\n",
    "    print(\"MAPE:\", round(mape, 4)) # mean absolute percentage error\n",
    "    print(\"MedAE:\", round(medae, 4)) # median absolute error\n",
    "    print(\"MedAPE:\", round(medape, 4)) # median absolute percentage error\n",
    "    print(\"R2:\", round(r2, 4)) # R^2\n",
    "    print(\"------------------------\")\n",
    "    if add_to_results:\n",
    "        metrics_table.at[model_name, \"MSE\"] = mse\n",
    "        metrics_table.at[model_name, \"RMSE\"] = rmse\n",
    "        metrics_table.at[model_name, \"MAE\"] = mae\n",
    "        metrics_table.at[model_name, \"MAPE\"] = mape\n",
    "        metrics_table.at[model_name, \"MedAE\"] = medae\n",
    "        metrics_table.at[model_name, \"MedAPE\"] = medape\n",
    "        metrics_table.at[model_name, \"R2\"] = r2\n",
    "    return metrics_table"
   ]
  },
  {
   "cell_type": "code",
   "execution_count": null,
   "id": "a8b87dd5",
   "metadata": {},
   "outputs": [],
   "source": [
    "model_names = [\n",
    "    \"coords_linear_regression\",\n",
    "    \"coords_lasso_regression\",\n",
    "    \"coords_ridge_regression\",\n",
    "    \"coords_svm\",\n",
    "    \"coords_random_forest\",\n",
    "    \"coords_xgboost\",\n",
    "    \"spatial_linear_regression\",\n",
    "    \"spatial_lasso_regression\",\n",
    "    \"spatial_ridge_regression\",\n",
    "    \"spatial_svm\",\n",
    "    \"spatial_random_forest\",\n",
    "    \"spatial_xgboost\",\n",
    "]\n",
    "metric_names = [\"MSE\", \"RMSE\", \"MAE\",\"MAPE\", \"MedAE\", \"MedAPE\", \"R2\"]\n",
    "metrics_table = pd.DataFrame(index = model_names, columns = metric_names)"
   ]
  },
  {
   "cell_type": "markdown",
   "id": "25c0be6b",
   "metadata": {},
   "source": [
    "## Models performance visualization"
   ]
  },
  {
   "cell_type": "code",
   "execution_count": null,
   "id": "be8f5993",
   "metadata": {},
   "outputs": [],
   "source": [
    "import plotly.graph_objects as go\n",
    "from scipy import stats\n",
    "\n",
    "def plot_scatter(model_name, y_true, y_pred):\n",
    "    slope, intercept, r_value, p_value, std_err = stats.linregress(y_true, y_pred)\n",
    "    line = slope * y_true + intercept\n",
    "    fig = go.Figure()\n",
    "    fig.add_trace(go.Scatter(x=y_true, y=y_pred, showlegend=False, mode='markers', name='markers', marker={\"size\":3, \"color\": \"blue\"}))\n",
    "    fig.add_trace(go.Scatter(x=y_true, y=line, mode='lines', name=\"Model fit\", marker={\"color\": \"red\"}))\n",
    "    fig.add_trace(go.Scatter(x=[0,10000], y=[0,10000], mode='lines', name=\"Best fit\", marker={\"color\": \"black\"}))\n",
    "    fig.update_layout(\n",
    "        title=model_name,\n",
    "        xaxis_title=\"True values\",\n",
    "        yaxis_title=\"Predicted values\",\n",
    "        font_family=\"Times New Roman\",\n",
    "        yaxis_tickformat = '000',\n",
    "        xaxis_tickformat = '000',\n",
    "        legend=dict(\n",
    "            orientation=\"h\",\n",
    "            yanchor=\"bottom\",\n",
    "            y=1.02,\n",
    "            xanchor=\"right\",\n",
    "            x=1,\n",
    "            font_size=20,\n",
    "        ),\n",
    "        paper_bgcolor=\"white\",\n",
    "        plot_bgcolor=\"white\",\n",
    "        yaxis = dict(titlefont = dict(size=20)),\n",
    "        xaxis = dict(titlefont = dict(size=20)),\n",
    "    )\n",
    "    fig.update_xaxes(showline=True, linewidth=1, linecolor='black')\n",
    "    fig.update_yaxes(showline=True, linewidth=1, linecolor='black')\n",
    "    fig.show()\n",
    "    \n",
    "def plot_histogram(model_name, y_true, y_pred):\n",
    "    fig = go.Figure()\n",
    "    fig.add_trace(go.Histogram(x=y_true - y_pred, nbinsx=150))\n",
    "    fig.update_traces(marker_line_width=1,marker_line_color=\"black\")\n",
    "    fig.update_layout(\n",
    "        title=model_name,\n",
    "        xaxis_title=\"True values - Predicted values\",\n",
    "        yaxis_title=\"Number of observations\",\n",
    "        font_family=\"Times New Roman\",\n",
    "        yaxis_tickformat = '000',\n",
    "        xaxis_tickformat = '000',\n",
    "        paper_bgcolor=\"white\",\n",
    "        plot_bgcolor=\"white\",\n",
    "        yaxis = dict(titlefont = dict(size=20)),\n",
    "        xaxis = dict(titlefont = dict(size=20)),\n",
    "    )\n",
    "    fig.update_xaxes(showline=True, linewidth=1, linecolor='black')\n",
    "    fig.update_yaxes(showline=True, linewidth=1, linecolor='black')\n",
    "    fig.show()"
   ]
  },
  {
   "cell_type": "markdown",
   "id": "72eb8d03",
   "metadata": {},
   "source": [
    "## Model parameters tuning method"
   ]
  },
  {
   "cell_type": "code",
   "execution_count": null,
   "id": "a4635aeb",
   "metadata": {},
   "outputs": [],
   "source": [
    "from sklearn.model_selection import GridSearchCV,GroupKFold\n",
    "\n",
    "scoring=[\n",
    "    'neg_root_mean_squared_error', # rmse\n",
    "    'neg_mean_absolute_error', # mae\n",
    "    'r2',\n",
    "]\n",
    "\n",
    "def parameters_tuning(x, estimator, param_grid):\n",
    "    gkf = GroupKFold(n_splits=5).split(x, y_train, X_train_districts)\n",
    "    grid_search = GridSearchCV(\n",
    "        estimator=estimator,\n",
    "        param_grid=param_grid,\n",
    "        refit='neg_mean_absolute_error',\n",
    "        scoring=scoring,\n",
    "        cv=gkf,\n",
    "        n_jobs=-1,\n",
    "        verbose=2,\n",
    "    )\n",
    "    grid_search.fit(x, y_train)\n",
    "    print(grid_search.best_params_)\n",
    "    return grid_search"
   ]
  },
  {
   "cell_type": "markdown",
   "id": "3761a4d7",
   "metadata": {},
   "source": [
    "# Modelling"
   ]
  },
  {
   "cell_type": "markdown",
   "id": "fdea364b",
   "metadata": {},
   "source": [
    "## Linear Regression"
   ]
  },
  {
   "cell_type": "markdown",
   "id": "c2da85e1",
   "metadata": {},
   "source": [
    "#### Coord OLS"
   ]
  },
  {
   "cell_type": "code",
   "execution_count": null,
   "id": "ef14064b",
   "metadata": {},
   "outputs": [],
   "source": [
    "from sklearn.linear_model import LinearRegression\n",
    "\n",
    "model_linear_regression_coord = LinearRegression(fit_intercept=True)\n",
    "model_linear_regression_coord.fit(X_train_coord,y_train)\n",
    "preds_linear_regression_coord = model_linear_regression_coord.predict(X_test_coord)"
   ]
  },
  {
   "cell_type": "code",
   "execution_count": null,
   "id": "a5736434",
   "metadata": {},
   "outputs": [],
   "source": [
    "import statsmodels.api as sm\n",
    "\n",
    "X_train_lr = sm.add_constant(X_train_coord)\n",
    "model_linear_regression_coord1 = sm.OLS(y_train,X_train_lr).fit()\n",
    "model_linear_regression_coord1.summary()"
   ]
  },
  {
   "cell_type": "code",
   "execution_count": null,
   "id": "230b1f30",
   "metadata": {
    "scrolled": true
   },
   "outputs": [],
   "source": [
    "lin_fi = pd.DataFrame({'variable':coeff_parameter_linear_regression_coord.index, 'weight':coeff_parameter_linear_regression_coord.Coefficient.values})\n",
    "lin_fi.dropna(inplace=True)\n",
    "lin_fi"
   ]
  },
  {
   "cell_type": "code",
   "execution_count": null,
   "id": "04b70035",
   "metadata": {},
   "outputs": [],
   "source": [
    "valmap = {\n",
    "    \"rooms\": \"number of rooms\",\n",
    "    \"size\": \"living area\",\n",
    "    \"latitude\": \"latitude\",\n",
    "    \"longitude\": \"longitude\",\n",
    "    \"floor\": \"floor\",\n",
    "    \"floors\": \"number of floors\",\n",
    "    \"year_built\": \"year of construction\",\n",
    "    \"balcony\": \"balcony\",\n",
    "    \"parking\": \"parking space\",\n",
    "    \"separate_kitchen\": \"separate kitchen\",\n",
    "    \"storage\": \"storage\",\n",
    "    \"building_material_cegla\": \"building material - brick\",\n",
    "    \"building_material_beton\": \"building material - concrete\",\n",
    "    \"building_material_inny\": \"building material - other\",\n",
    "    \"building_material_wielka plyta\": \"building material - plattenbau\",\n",
    "    \"building_type_apartamentowiec\": \"building type - apartmenthouse\",\n",
    "    \"building_type_blok\": \"building type - block of flats\",\n",
    "    \"building_type_inny\": \"building type - other\",\n",
    "    \"building_type_kamienica\": \"building type - tenement\",\n",
    "    \"windows_drewniane\": \"windows - wooden\",\n",
    "    \"standard_wysoki\": \"standard - high\",\n",
    "    \"windows_plastikowe\": \"windows - plastic\",\n",
    "}\n",
    "\n",
    "lin_fi['variable'] = lin_fi['variable'].map(valmap)\n",
    "\n",
    "def plot_feature_importance(df, title):\n",
    "    fig = go.Figure()\n",
    "    fig.add_trace(go.Bar(\n",
    "        x=df[\"weight\"],\n",
    "        y=df[\"variable\"],\n",
    "        orientation='h',\n",
    "    ))\n",
    "    fig.update_layout(\n",
    "        title=title,\n",
    "        xaxis_title=\"Coefficient estimates\",\n",
    "        yaxis_title=\"\",\n",
    "        font_family=\"Times New Roman\",\n",
    "        yaxis_tickformat = '000',\n",
    "        xaxis_tickformat = '000',\n",
    "        paper_bgcolor=\"white\",\n",
    "        plot_bgcolor=\"white\",\n",
    "        yaxis = dict(titlefont = dict(size=30)),\n",
    "        xaxis = dict(titlefont = dict(size=20)),\n",
    "    )\n",
    "    fig.update_xaxes(showline=True, linewidth=1, linecolor='black')\n",
    "    fig.update_yaxes(showline=True, linewidth=1, linecolor='black')\n",
    "    fig.show()\n",
    "    \n",
    "plot_feature_importance(lin_fi.reindex(lin_fi.weight.abs().sort_values(ascending=True).index), \"Absolute location\")"
   ]
  },
  {
   "cell_type": "code",
   "execution_count": null,
   "id": "6db8e136",
   "metadata": {
    "scrolled": false
   },
   "outputs": [],
   "source": [
    "plot_scatter(\"Absolute location\", y_test, preds_linear_regression_coord)"
   ]
  },
  {
   "cell_type": "code",
   "execution_count": null,
   "id": "49ebee1c",
   "metadata": {
    "scrolled": false
   },
   "outputs": [],
   "source": [
    "plot_histogram(\"Absolute location\", y_test, preds_linear_regression_coord)"
   ]
  },
  {
   "cell_type": "code",
   "execution_count": null,
   "id": "3a1f5097",
   "metadata": {
    "scrolled": true
   },
   "outputs": [],
   "source": [
    "metrics_table = eval_metrics(metrics_table, \"coords_linear_regression\", y_test, preds_linear_regression_coord)"
   ]
  },
  {
   "cell_type": "markdown",
   "id": "e911ea02",
   "metadata": {},
   "source": [
    "#### Spatial OLS"
   ]
  },
  {
   "cell_type": "code",
   "execution_count": null,
   "id": "993601be",
   "metadata": {},
   "outputs": [],
   "source": [
    "from sklearn.linear_model import LinearRegression\n",
    "\n",
    "model_linear_regression_spatial = LinearRegression(fit_intercept=True)\n",
    "model_linear_regression_spatial.fit(X_train_spatial,y_train)\n",
    "preds_linear_regression_spatial = model_linear_regression_spatial.predict(X_test_spatial)"
   ]
  },
  {
   "cell_type": "code",
   "execution_count": null,
   "id": "0106ef7b",
   "metadata": {},
   "outputs": [],
   "source": [
    "import statsmodels.api as sm\n",
    "X_train_lr = sm.add_constant(X_train_spatial)\n",
    "model_linear_regression_spatial = sm.OLS(y_train,X_train_lr).fit()\n",
    "model_linear_regression_spatial.summary()"
   ]
  },
  {
   "cell_type": "code",
   "execution_count": null,
   "id": "a2c09e68",
   "metadata": {
    "scrolled": false
   },
   "outputs": [],
   "source": [
    "plot_scatter(\"Relative location\", y_test, preds_linear_regression_spatial)"
   ]
  },
  {
   "cell_type": "code",
   "execution_count": null,
   "id": "87e4470d",
   "metadata": {},
   "outputs": [],
   "source": [
    "plot_histogram(\"Relative location\", y_test, preds_linear_regression_spatial)"
   ]
  },
  {
   "cell_type": "code",
   "execution_count": null,
   "id": "b55c33e4",
   "metadata": {},
   "outputs": [],
   "source": [
    "metrics_table = eval_metrics(metrics_table, \"spatial_linear_regression\", y_test, preds_linear_regression_spatial)"
   ]
  },
  {
   "cell_type": "markdown",
   "id": "89d6f01b",
   "metadata": {},
   "source": [
    "## Regularization"
   ]
  },
  {
   "cell_type": "markdown",
   "id": "5d26fc80",
   "metadata": {},
   "source": [
    "### Lasso Regression"
   ]
  },
  {
   "cell_type": "markdown",
   "id": "665cd1df",
   "metadata": {},
   "source": [
    "#### Coord Lasso"
   ]
  },
  {
   "cell_type": "code",
   "execution_count": null,
   "id": "637ee575",
   "metadata": {
    "scrolled": true
   },
   "outputs": [],
   "source": [
    "from sklearn.linear_model import Lasso\n",
    "\n",
    "param_grid_lasso_regression_coord = {'alpha': [0.0001, 0.001, 0.01, 0.1, 1, 5, 10, 20, 100]}\n",
    "\n",
    "grid_search_lasso_regression_coord = parameters_tuning(X_train_coord, Lasso(), param_grid_lasso_regression_coord)"
   ]
  },
  {
   "cell_type": "code",
   "execution_count": null,
   "id": "f7dd4791",
   "metadata": {},
   "outputs": [],
   "source": [
    "from sklearn.linear_model import Lasso\n",
    "model_lasso_regression_coord = Lasso(**grid_search_lasso_regression_coord.best_params_)\n",
    "model_lasso_regression_coord.fit(X_train_coord, y_train)\n",
    "preds_lasso_regression_coord = model_lasso_regression_coord.predict(X_test_coord)"
   ]
  },
  {
   "cell_type": "code",
   "execution_count": null,
   "id": "a0123bfd",
   "metadata": {
    "scrolled": true
   },
   "outputs": [],
   "source": [
    "import eli5\n",
    "\n",
    "eli5.show_weights(\n",
    "    model_lasso_regression_coord,\n",
    "    top=-1,\n",
    "    feature_names = X_train_coord.columns.tolist(),\n",
    ")"
   ]
  },
  {
   "cell_type": "code",
   "execution_count": null,
   "id": "abe9064e",
   "metadata": {
    "scrolled": true
   },
   "outputs": [],
   "source": [
    "def lasso1(alphas):\n",
    "    df = pd.DataFrame()\n",
    "    df['variable'] = X_train_coord.columns.tolist()\n",
    "    for alpha in alphas:\n",
    "        lasso = Lasso(alpha=alpha)\n",
    "        lasso.fit(X_train_coord, y_train)\n",
    "        column_name = 'weight'\n",
    "        df[column_name] = lasso.coef_ \n",
    "    return df\n",
    "\n",
    "lasso_fi = lasso1([10])"
   ]
  },
  {
   "cell_type": "code",
   "execution_count": null,
   "id": "5425c567",
   "metadata": {},
   "outputs": [],
   "source": [
    "lasso_fi"
   ]
  },
  {
   "cell_type": "code",
   "execution_count": null,
   "id": "ebc4b294",
   "metadata": {
    "scrolled": true
   },
   "outputs": [],
   "source": [
    "valmap = {\n",
    "    \"rooms\": \"number of rooms\",\n",
    "    \"size\": \"living area\",\n",
    "    \"latitude\": \"latitude\",\n",
    "    \"longitude\": \"longitude\",\n",
    "    \"floor\": \"floor\",\n",
    "    \"floors\": \"number of floors\",\n",
    "    \"year_built\": \"year of construction\",\n",
    "    \"balcony\": \"balcony\",\n",
    "    \"parking\": \"parking space\",\n",
    "    \"separate_kitchen\": \"separate kitchen\",\n",
    "    \"storage\": \"storage\",\n",
    "    \"building_material_cegla\": \"building material - brick\",\n",
    "    \"building_material_beton\": \"building material - concrete\",\n",
    "    \"building_material_inny\": \"building material - other\",\n",
    "    \"building_material_wielka plyta\": \"building material - plattenbau\",\n",
    "    \"building_type_apartamentowiec\": \"building type - apartmenthouse\",\n",
    "    \"building_type_blok\": \"building type - block of flats\",\n",
    "    \"building_type_inny\": \"building type - other\",\n",
    "    \"building_type_kamienica\": \"building type - tenement\",\n",
    "    \"windows_drewniane\": \"windows - wooden\",\n",
    "    \"standard_wysoki\": \"standard - high\",\n",
    "    \"windows_plastikowe\": \"windows - plastic\",\n",
    "}\n",
    "\n",
    "lasso_fi['variable'] = lasso_fi['variable'].map(valmap)\n",
    "\n",
    "def plot_feature_importance(df, title):\n",
    "    fig = go.Figure()\n",
    "    fig.add_trace(go.Bar(\n",
    "        x=df[\"weight\"],\n",
    "        y=df[\"variable\"],\n",
    "        orientation='h',\n",
    "    ))\n",
    "    fig.update_layout(\n",
    "        title=title,\n",
    "        xaxis_title=\"Coefficient estimates\",\n",
    "        yaxis_title=\"\",\n",
    "        font_family=\"Times New Roman\",\n",
    "        yaxis_tickformat = '000',\n",
    "        xaxis_tickformat = '000',\n",
    "        paper_bgcolor=\"white\",\n",
    "        plot_bgcolor=\"white\",\n",
    "        yaxis = dict(titlefont = dict(size=30)),\n",
    "        xaxis = dict(titlefont = dict(size=20)),\n",
    "    )\n",
    "    fig.update_xaxes(showline=True, linewidth=1, linecolor='black')\n",
    "    fig.update_yaxes(showline=True, linewidth=1, linecolor='black')\n",
    "    fig.show()\n",
    "\n",
    "plot_feature_importance(lasso_fi.reindex(lasso_fi.weight.abs().sort_values(ascending=True).index), \"Lasso regression\")"
   ]
  },
  {
   "cell_type": "code",
   "execution_count": null,
   "id": "7991a8b7",
   "metadata": {},
   "outputs": [],
   "source": [
    "plot_scatter(\"Absolute location\", y_test, preds_lasso_regression_coord)"
   ]
  },
  {
   "cell_type": "code",
   "execution_count": null,
   "id": "a5775928",
   "metadata": {},
   "outputs": [],
   "source": [
    "plot_histogram(\"Absolute location\", y_test, preds_lasso_regression_coord)"
   ]
  },
  {
   "cell_type": "code",
   "execution_count": null,
   "id": "538cc277",
   "metadata": {
    "scrolled": true
   },
   "outputs": [],
   "source": [
    "metrics_table = eval_metrics(metrics_table, \"coords_lasso_regression\", y_test, preds_lasso_regression_coord)"
   ]
  },
  {
   "cell_type": "markdown",
   "id": "ba4a82b4",
   "metadata": {},
   "source": [
    "#### Spatial Lasso"
   ]
  },
  {
   "cell_type": "code",
   "execution_count": null,
   "id": "6bae199a",
   "metadata": {},
   "outputs": [],
   "source": [
    "from sklearn.linear_model import Lasso\n",
    "\n",
    "param_grid_lasso_regression_spatial = {'alpha': [0.0001, 0.001, 0.01, 0.1, 1, 5, 10, 20, 100]}\n",
    "\n",
    "grid_search_lasso_regression_spatial = parameters_tuning(X_train_spatial, Lasso(), param_grid_lasso_regression_spatial)"
   ]
  },
  {
   "cell_type": "code",
   "execution_count": null,
   "id": "011bdfc3",
   "metadata": {},
   "outputs": [],
   "source": [
    "from sklearn.linear_model import Lasso\n",
    "model_lasso_regression_spatial = Lasso(**grid_search_lasso_regression_spatial.best_params_)\n",
    "model_lasso_regression_spatial.fit(X_train_spatial, y_train)\n",
    "preds_lasso_regression_spatial = model_lasso_regression_spatial.predict(X_test_spatial)"
   ]
  },
  {
   "cell_type": "code",
   "execution_count": null,
   "id": "ee2e60f5",
   "metadata": {},
   "outputs": [],
   "source": [
    "import eli5\n",
    "\n",
    "eli5.show_weights(\n",
    "    model_lasso_regression_spatial,\n",
    "    top=-1,\n",
    "    feature_names = X_train_spatial.columns.tolist(),\n",
    ")"
   ]
  },
  {
   "cell_type": "code",
   "execution_count": null,
   "id": "92c67ffb",
   "metadata": {
    "scrolled": true
   },
   "outputs": [],
   "source": [
    "def lasso1(alphas):\n",
    "    df = pd.DataFrame()\n",
    "    df['variable'] = X_train_spatial.columns.tolist()\n",
    "    for alpha in alphas:\n",
    "        lasso = Lasso(alpha=alpha)\n",
    "        lasso.fit(X_train_spatial, y_train)\n",
    "        column_name = 'weight'\n",
    "        df[column_name] = lasso.coef_ \n",
    "    return df\n",
    "\n",
    "lasso_fi = lasso1([10])\n",
    "lasso_fi"
   ]
  },
  {
   "cell_type": "code",
   "execution_count": null,
   "id": "d5eca7c1",
   "metadata": {},
   "outputs": [],
   "source": [
    "valmap = {\n",
    "    \"rooms\": \"number of rooms\",\n",
    "    \"size\": \"living area\",\n",
    "    \"floor\": \"floor\",\n",
    "    \"floors\": \"number of floors\",\n",
    "    \"year_built\": \"year of construction\",\n",
    "    \"balcony\": \"balcony\",\n",
    "    \"parking\": \"parking space\",\n",
    "    \"separate_kitchen\": \"separate kitchen\",\n",
    "    \"storage\": \"storage\",\n",
    "    \"building_material_cegla\": \"building material - brick\",\n",
    "    \"building_material_beton\": \"building material - concrete\",\n",
    "    \"building_material_inny\": \"building material - other\",\n",
    "    \"building_material_wielka plyta\": \"building material - plattenbau\",\n",
    "    \"building_type_apartamentowiec\": \"building type - apartmenthouse\",\n",
    "    \"building_type_blok\": \"building type - block of flats\",\n",
    "    \"building_type_inny\": \"building type - other\",\n",
    "    \"building_type_kamienica\": \"building type - tenement\",\n",
    "    \"windows_drewniane\": \"windows - wooden\",\n",
    "    \"standard_wysoki\": \"standard - high\",\n",
    "    \"windows_plastikowe\": \"windows - plastic\",\n",
    "    \"city_warszawa\": \"city - Warsaw\",\n",
    "    \"city_poznan\": \"city - Poznań\",\n",
    "    \"city_wroclaw\": \"city - Wrocław\",\n",
    "    \"city_krakow\": \"city - Kraków\",\n",
    "    \"city_gdansk\": \"city - Gdańsk\",\n",
    "    \"city_gdynia\": \"city - Gdynia\",\n",
    "    \"city_lublin\": \"city - Lublin\",\n",
    "    \"city_katowice\": \"city - Katowice\",\n",
    "    \"city_szczecin\": \"city - Szczecin\",\n",
    "    \"city_lodz\": \"city - Łódź\",\n",
    "    \"city_bialystok\": \"city - Białystok\",\n",
    "    \"competition500m\": \"competitive offers nearby\",\n",
    "    \"distance_to_centre\": \"distance to city centre\",\n",
    "}\n",
    "\n",
    "lasso_fi['variable'] = lasso_fi['variable'].map(valmap)\n",
    "\n",
    "def plot_feature_importance(df, title):\n",
    "    fig = go.Figure()\n",
    "    fig.add_trace(go.Bar(\n",
    "        x=df[\"weight\"],\n",
    "        y=df[\"variable\"],\n",
    "        orientation='h',\n",
    "    ))\n",
    "    fig.update_layout(\n",
    "        height=800,\n",
    "        title=title,\n",
    "        xaxis_title=\"Coefficient estimates\",\n",
    "        yaxis_title=\"\",\n",
    "        font_family=\"Times New Roman\",\n",
    "        yaxis_tickformat = '000',\n",
    "        xaxis_tickformat = '000',\n",
    "        paper_bgcolor=\"white\",\n",
    "        plot_bgcolor=\"white\",\n",
    "        yaxis = dict(titlefont = dict(size=30)),\n",
    "        xaxis = dict(titlefont = dict(size=20)),\n",
    "    )\n",
    "    fig.update_xaxes(showline=True, linewidth=1, linecolor='black')\n",
    "    fig.update_yaxes(showline=True, linewidth=1, linecolor='black', tickmode=\"linear\")\n",
    "    fig.show()\n",
    "    \n",
    "plot_feature_importance(lasso_fi.reindex(lasso_fi.weight.abs().sort_values(ascending=True).index), \"Lasso regression\")"
   ]
  },
  {
   "cell_type": "code",
   "execution_count": null,
   "id": "f23bcf96",
   "metadata": {},
   "outputs": [],
   "source": [
    "plot_scatter(\"Relative location\", y_test, preds_lasso_regression_spatial)"
   ]
  },
  {
   "cell_type": "code",
   "execution_count": null,
   "id": "78730b73",
   "metadata": {},
   "outputs": [],
   "source": [
    "plot_histogram(\"Relative location\", y_test, preds_lasso_regression_spatial)"
   ]
  },
  {
   "cell_type": "code",
   "execution_count": null,
   "id": "16c2bcb2",
   "metadata": {},
   "outputs": [],
   "source": [
    "metrics_table = eval_metrics(metrics_table, \"spatial_lasso_regression\", y_test, preds_lasso_regression_spatial)"
   ]
  },
  {
   "cell_type": "markdown",
   "id": "f009a846",
   "metadata": {},
   "source": [
    "### Ridge Regression"
   ]
  },
  {
   "cell_type": "markdown",
   "id": "2072b61a",
   "metadata": {},
   "source": [
    "#### Coord Ridge"
   ]
  },
  {
   "cell_type": "code",
   "execution_count": null,
   "id": "11d45776",
   "metadata": {},
   "outputs": [],
   "source": [
    "from sklearn.linear_model import Ridge\n",
    "\n",
    "param_grid_ridge_regression_coord = {'alpha': [0.0001, 0.001, 0.01, 0.1, 1, 5, 10, 20, 100]}\n",
    "\n",
    "grid_search_ridge_regression_coord = parameters_tuning(X_train_coord, Ridge(), param_grid_ridge_regression_coord)"
   ]
  },
  {
   "cell_type": "code",
   "execution_count": null,
   "id": "fc048a89",
   "metadata": {},
   "outputs": [],
   "source": [
    "model_ridge_regression_coord = Ridge(**grid_search_ridge_regression_coord.best_params_)\n",
    "model_ridge_regression_coord.fit(X_train_coord, y_train)\n",
    "preds_ridge_regression_coord = model_ridge_regression_coord.predict(X_test_coord)"
   ]
  },
  {
   "cell_type": "code",
   "execution_count": null,
   "id": "fdc4fd9e",
   "metadata": {},
   "outputs": [],
   "source": [
    "from sklearn.linear_model import Ridge\n",
    "\n",
    "def ridge1(alphas):\n",
    "    df = pd.DataFrame()\n",
    "    df['variable'] = X_train_coord.columns.tolist()\n",
    "    for alpha in alphas:\n",
    "        ridge = Ridge(alpha=alpha)\n",
    "        ridge.fit(X_train_coord, y_train)\n",
    "        column_name = 'weight'\n",
    "        df[column_name] = ridge.coef_\n",
    "    return df\n",
    "\n",
    "ridge_fi = ridge1([100])\n",
    "ridge_fi"
   ]
  },
  {
   "cell_type": "code",
   "execution_count": null,
   "id": "825c7228",
   "metadata": {
    "scrolled": true
   },
   "outputs": [],
   "source": [
    "valmap = {\n",
    "    \"rooms\": \"number of rooms\",\n",
    "    \"size\": \"living area\",\n",
    "    \"latitude\": \"latitude\",\n",
    "    \"longitude\": \"longitude\",\n",
    "    \"floor\": \"floor\",\n",
    "    \"floors\": \"number of floors\",\n",
    "    \"year_built\": \"year of construction\",\n",
    "    \"balcony\": \"balcony\",\n",
    "    \"parking\": \"parking space\",\n",
    "    \"separate_kitchen\": \"separate kitchen\",\n",
    "    \"storage\": \"storage\",\n",
    "    \"building_material_cegla\": \"building material - brick\",\n",
    "    \"building_material_beton\": \"building material - concrete\",\n",
    "    \"building_material_inny\": \"building material - other\",\n",
    "    \"building_material_wielka plyta\": \"building material - plattenbau\",\n",
    "    \"building_type_apartamentowiec\": \"building type - apartmenthouse\",\n",
    "    \"building_type_blok\": \"building type - block of flats\",\n",
    "    \"building_type_inny\": \"building type - other\",\n",
    "    \"building_type_kamienica\": \"building type - tenement\",\n",
    "    \"windows_drewniane\": \"windows - wooden\",\n",
    "    \"standard_wysoki\": \"standard - high\",\n",
    "    \"windows_plastikowe\": \"windows - plastic\",\n",
    "}\n",
    "\n",
    "ridge_fi['variable'] = ridge_fi['variable'].map(valmap)\n",
    "\n",
    "def plot_feature_importance(df, title):\n",
    "    fig = go.Figure()\n",
    "    fig.add_trace(go.Bar(\n",
    "        x=df[\"weight\"],\n",
    "        y=df[\"variable\"],\n",
    "        orientation='h',\n",
    "    ))\n",
    "    fig.update_layout(\n",
    "        title=title,\n",
    "        xaxis_title=\"Coefficient estimates\",\n",
    "        yaxis_title=\"\",\n",
    "        font_family=\"Times New Roman\",\n",
    "        yaxis_tickformat = '000',\n",
    "        xaxis_tickformat = '000',\n",
    "        paper_bgcolor=\"white\",\n",
    "        plot_bgcolor=\"white\",\n",
    "        yaxis = dict(titlefont = dict(size=30)),\n",
    "        xaxis = dict(titlefont = dict(size=20)),\n",
    "    )\n",
    "    fig.update_xaxes(showline=True, linewidth=1, linecolor='black')\n",
    "    fig.update_yaxes(showline=True, linewidth=1, linecolor='black')\n",
    "    fig.show()\n",
    "\n",
    "plot_feature_importance(\n",
    "    ridge_fi.reindex(ridge_fi.weight.abs().sort_values(ascending=True).index),\n",
    "    \"Ridge regression\"\n",
    ")"
   ]
  },
  {
   "cell_type": "code",
   "execution_count": null,
   "id": "f4909c4c",
   "metadata": {},
   "outputs": [],
   "source": [
    "plot_scatter(\"Absolute location\", y_test, preds_ridge_regression_coord)"
   ]
  },
  {
   "cell_type": "code",
   "execution_count": null,
   "id": "816b1e0e",
   "metadata": {},
   "outputs": [],
   "source": [
    "plot_histogram(\"Absolute location\", y_test, preds_ridge_regression_coord)"
   ]
  },
  {
   "cell_type": "code",
   "execution_count": null,
   "id": "bfb1abf2",
   "metadata": {},
   "outputs": [],
   "source": [
    "metrics_table = eval_metrics(metrics_table, \"coords_ridge_regression\", y_test, preds_ridge_regression_coord)"
   ]
  },
  {
   "cell_type": "markdown",
   "id": "21dfefc1",
   "metadata": {},
   "source": [
    "#### Spatial Ridge"
   ]
  },
  {
   "cell_type": "code",
   "execution_count": null,
   "id": "0f9389f3",
   "metadata": {},
   "outputs": [],
   "source": [
    "from sklearn.linear_model import Ridge\n",
    "\n",
    "param_grid_ridge_regression_spatial = {'alpha': [0.0001, 0.001, 0.01, 0.1, 1, 5, 10, 20, 100]}\n",
    "\n",
    "grid_search_ridge_regression_spatial = parameters_tuning(X_train_spatial, Ridge(), param_grid_ridge_regression_spatial)"
   ]
  },
  {
   "cell_type": "code",
   "execution_count": null,
   "id": "c44b83ff",
   "metadata": {},
   "outputs": [],
   "source": [
    "model_ridge_regression_spatial = Ridge(**grid_search_ridge_regression_spatial.best_params_)\n",
    "model_ridge_regression_spatial.fit(X_train_spatial, y_train)\n",
    "preds_ridge_regression_spatial = model_ridge_regression_spatial.predict(X_test_spatial)"
   ]
  },
  {
   "cell_type": "code",
   "execution_count": null,
   "id": "6f187594",
   "metadata": {},
   "outputs": [],
   "source": [
    "from sklearn.linear_model import Ridge\n",
    "def ridge1(alphas):\n",
    "    df = pd.DataFrame()\n",
    "    df['variable'] = X_train_spatial.columns.tolist()\n",
    "    for alpha in alphas:\n",
    "        ridge = Ridge(alpha=alpha)\n",
    "        ridge.fit(X_train_spatial, y_train)\n",
    "        column_name = 'weight'\n",
    "        df[column_name] = ridge.coef_\n",
    "    return df\n",
    "\n",
    "ridge_fi = ridge1([100])\n",
    "ridge_fi"
   ]
  },
  {
   "cell_type": "code",
   "execution_count": null,
   "id": "83ae0ceb",
   "metadata": {},
   "outputs": [],
   "source": [
    "valmap = {\n",
    "    \"rooms\": \"number of rooms\",\n",
    "    \"size\": \"living area\",\n",
    "    \"floor\": \"floor\",\n",
    "    \"floors\": \"number of floors\",\n",
    "    \"year_built\": \"year of construction\",\n",
    "    \"balcony\": \"balcony\",\n",
    "    \"parking\": \"parking space\",\n",
    "    \"separate_kitchen\": \"separate kitchen\",\n",
    "    \"storage\": \"storage\",\n",
    "    \"building_material_cegla\": \"building material - brick\",\n",
    "    \"building_material_beton\": \"building material - concrete\",\n",
    "    \"building_material_inny\": \"building material - other\",\n",
    "    \"building_material_wielka plyta\": \"building material - plattenbau\",\n",
    "    \"building_type_apartamentowiec\": \"building type - apartmenthouse\",\n",
    "    \"building_type_blok\": \"building type - block of flats\",\n",
    "    \"building_type_inny\": \"building type - other\",\n",
    "    \"building_type_kamienica\": \"building type - tenement\",\n",
    "    \"windows_drewniane\": \"windows - wooden\",\n",
    "    \"standard_wysoki\": \"standard - high\",\n",
    "    \"windows_plastikowe\": \"windows - plastic\",\n",
    "    \"city_warszawa\": \"city - Warsaw\",\n",
    "    \"city_poznan\": \"city - Poznań\",\n",
    "    \"city_wroclaw\": \"city - Wrocław\",\n",
    "    \"city_krakow\": \"city - Kraków\",\n",
    "    \"city_gdansk\": \"city - Gdańsk\",\n",
    "    \"city_gdynia\": \"city - Gdynia\",\n",
    "    \"city_lublin\": \"city - Lublin\",\n",
    "    \"city_katowice\": \"city - Katowice\",\n",
    "    \"city_szczecin\": \"city - Szczecin\",\n",
    "    \"city_lodz\": \"city - Łódź\",\n",
    "    \"city_bialystok\": \"city - Białystok\",\n",
    "    \"competition500m\": \"competitive offers nearby\",\n",
    "    \"distance_to_centre\": \"distance to city centre\",\n",
    "}\n",
    "\n",
    "ridge_fi['variable'] = ridge_fi['variable'].map(valmap)\n",
    "\n",
    "def plot_feature_importance(df, title):\n",
    "    fig = go.Figure()\n",
    "    fig.add_trace(go.Bar(\n",
    "        x=df[\"weight\"],\n",
    "        y=df[\"variable\"],\n",
    "        orientation='h',\n",
    "    ))\n",
    "    fig.update_layout(\n",
    "        title=title,\n",
    "        height=800,\n",
    "        xaxis_title=\"Coefficient estimates\",\n",
    "        yaxis_title=\"\",\n",
    "        font_family=\"Times New Roman\",\n",
    "        yaxis_tickformat = '000',\n",
    "        xaxis_tickformat = '000',\n",
    "        paper_bgcolor=\"white\",\n",
    "        plot_bgcolor=\"white\",\n",
    "        yaxis = dict(titlefont = dict(size=30)),\n",
    "        xaxis = dict(titlefont = dict(size=20)),\n",
    "    )\n",
    "    fig.update_xaxes(showline=True, linewidth=1, linecolor='black')\n",
    "    fig.update_yaxes(showline=True, linewidth=1, linecolor='black', tickmode=\"linear\")\n",
    "    fig.show()\n",
    "\n",
    "plot_feature_importance(ridge_fi.reindex(ridge_fi.weight.abs().sort_values(ascending=True).index), \"Ridge regression\")"
   ]
  },
  {
   "cell_type": "code",
   "execution_count": null,
   "id": "be43ae81",
   "metadata": {},
   "outputs": [],
   "source": [
    "plot_scatter(\"Relative location\", y_test, preds_ridge_regression_spatial)"
   ]
  },
  {
   "cell_type": "code",
   "execution_count": null,
   "id": "a9553a3c",
   "metadata": {},
   "outputs": [],
   "source": [
    "plot_histogram(\"Relative location\", y_test, preds_ridge_regression_spatial)"
   ]
  },
  {
   "cell_type": "code",
   "execution_count": null,
   "id": "c726907c",
   "metadata": {},
   "outputs": [],
   "source": [
    "metrics_table = eval_metrics(metrics_table, \"spatial_ridge_regression\", y_test, preds_ridge_regression_spatial)"
   ]
  },
  {
   "cell_type": "markdown",
   "id": "0cc24639",
   "metadata": {},
   "source": [
    "## Support Vector Machine"
   ]
  },
  {
   "cell_type": "markdown",
   "id": "37c4b501",
   "metadata": {},
   "source": [
    "#### Coord SVR"
   ]
  },
  {
   "cell_type": "code",
   "execution_count": null,
   "id": "ccf8a998",
   "metadata": {},
   "outputs": [],
   "source": [
    "from sklearn.svm import SVR\n",
    "\n",
    "param_grid_svm_coord = {\n",
    "    'epsilon': [0.05, 0.1, 0.2],\n",
    "    'kernel': [\"linear\", \"poly\", \"rbf\"],\n",
    "    'C': [0.01, 0.1, 0.25, 0.5, 1, 2, 5, 10],\n",
    "    'degree': [2, 3, 4],\n",
    "}\n",
    "\n",
    "grid_search_svm_coord = parameters_tuning(X_train_coord, SVR(), param_grid_svm_coord)"
   ]
  },
  {
   "cell_type": "code",
   "execution_count": null,
   "id": "0b647b90",
   "metadata": {},
   "outputs": [],
   "source": [
    "model_svm_coord = SVR(**grid_search_svm_coord.best_params_)\n",
    "model_svm_coord.fit(X_train_coord, y_train)\n",
    "preds_svm_coord = model_svm_coord.predict(X_test_coord)"
   ]
  },
  {
   "cell_type": "code",
   "execution_count": null,
   "id": "18703d7d",
   "metadata": {
    "scrolled": false
   },
   "outputs": [],
   "source": [
    "plot_scatter(\"Absolute location\", y_test, preds_svm_coord)"
   ]
  },
  {
   "cell_type": "code",
   "execution_count": null,
   "id": "8572fea7",
   "metadata": {
    "scrolled": false
   },
   "outputs": [],
   "source": [
    "plot_histogram(\"Absolute location\", y_test, preds_svm_coord)"
   ]
  },
  {
   "cell_type": "code",
   "execution_count": null,
   "id": "c5e4ad0b",
   "metadata": {
    "scrolled": true
   },
   "outputs": [],
   "source": [
    "metrics_table = eval_metrics(metrics_table, \"coords_svm\", y_test, preds_svm_coord)"
   ]
  },
  {
   "cell_type": "code",
   "execution_count": null,
   "id": "980906ab",
   "metadata": {},
   "outputs": [],
   "source": [
    "import pickle\n",
    "\n",
    "pickle.dump(model_svm_coord, open(\"model_svm_coord.pkl\", 'wb'))"
   ]
  },
  {
   "cell_type": "markdown",
   "id": "c1cf930a",
   "metadata": {},
   "source": [
    "#### Spatial SVR"
   ]
  },
  {
   "cell_type": "code",
   "execution_count": null,
   "id": "e98ea6a3",
   "metadata": {},
   "outputs": [],
   "source": [
    "from sklearn.svm import SVR\n",
    "\n",
    "param_grid_svm_spatial = {\n",
    "    'epsilon': [0.05, 0.1, 0.2],\n",
    "    'kernel': [\"linear\", \"poly\", \"rbf\"],\n",
    "    'C': [0.01, 0.1, 0.25, 0.5, 1, 2, 5, 10],\n",
    "    'degree': [2, 3, 4],\n",
    "}\n",
    "\n",
    "grid_search_svm_spatial = parameters_tuning(X_train_spatial, SVR(), param_grid_svm_spatial)"
   ]
  },
  {
   "cell_type": "code",
   "execution_count": null,
   "id": "ab2d7f03",
   "metadata": {},
   "outputs": [],
   "source": [
    "model_svm_spatial = SVR(**grid_search_svm_spatial.best_params_)\n",
    "model_svm_spatial.fit(X_train_spatial, y_train)\n",
    "preds_svm_spatial = model_svm_spatial.predict(X_test_spatial)"
   ]
  },
  {
   "cell_type": "code",
   "execution_count": null,
   "id": "3e6d3180",
   "metadata": {},
   "outputs": [],
   "source": [
    "plot_scatter(\"Relative location\", y_test, preds_svm_spatial)"
   ]
  },
  {
   "cell_type": "code",
   "execution_count": null,
   "id": "40cb9bc9",
   "metadata": {},
   "outputs": [],
   "source": [
    "plot_histogram(\"Relative location\", y_test, preds_svm_spatial)"
   ]
  },
  {
   "cell_type": "code",
   "execution_count": null,
   "id": "22df1b73",
   "metadata": {},
   "outputs": [],
   "source": [
    "metrics_table = eval_metrics(metrics_table, \"spatial_svm\", y_test, preds_svm_spatial)"
   ]
  },
  {
   "cell_type": "code",
   "execution_count": null,
   "id": "35b778b2",
   "metadata": {},
   "outputs": [],
   "source": [
    "pickle.dump(model_svm_spatial, open(\"model_svm_spatial.pkl\", 'wb'))"
   ]
  },
  {
   "cell_type": "markdown",
   "id": "73d873fd",
   "metadata": {},
   "source": [
    "## Random Forest"
   ]
  },
  {
   "cell_type": "markdown",
   "id": "c2fe3f4f",
   "metadata": {},
   "source": [
    "#### Coords RF"
   ]
  },
  {
   "cell_type": "code",
   "execution_count": null,
   "id": "402c1342",
   "metadata": {
    "scrolled": false
   },
   "outputs": [],
   "source": [
    "from sklearn.ensemble import RandomForestRegressor\n",
    "\n",
    "param_grid_random_forest_coords = {\n",
    "    'max_depth': [5, 10, 25, 50, 100],\n",
    "    'max_features': ['sqrt', 'auto'],\n",
    "    'min_samples_leaf': [5, 10, 25],\n",
    "    'min_samples_split': [10, 25, 50],\n",
    "    'n_estimators': [100, 500, 1000, 1500]\n",
    "}\n",
    "\n",
    "grid_search_random_forest_coords = parameters_tuning(X_train_coord, RandomForestRegressor(), param_grid_random_forest_coords)"
   ]
  },
  {
   "cell_type": "code",
   "execution_count": null,
   "id": "3f476a98",
   "metadata": {},
   "outputs": [],
   "source": [
    "model_random_forest_coords = RandomForestRegressor(**grid_search_random_forest_coords.best_params_)\n",
    "model_random_forest_coords.fit(X_train_coord, y_train)\n",
    "preds_random_forest_coords = model_random_forest_coords.predict(X_test_coord)"
   ]
  },
  {
   "cell_type": "code",
   "execution_count": null,
   "id": "7a338cff",
   "metadata": {},
   "outputs": [],
   "source": [
    "plot_scatter(\"Absolute location\", y_test, preds_random_forest_coords)"
   ]
  },
  {
   "cell_type": "code",
   "execution_count": null,
   "id": "7c6bd641",
   "metadata": {},
   "outputs": [],
   "source": [
    "grid_search_random_forest_coords.best_params_"
   ]
  },
  {
   "cell_type": "code",
   "execution_count": null,
   "id": "269560c0",
   "metadata": {
    "scrolled": false
   },
   "outputs": [],
   "source": [
    "plot_histogram(\"Absolute location\", y_test, preds_random_forest_coords)"
   ]
  },
  {
   "cell_type": "markdown",
   "id": "cf5bacd3",
   "metadata": {},
   "source": [
    "Top levels of one of the trees"
   ]
  },
  {
   "cell_type": "code",
   "execution_count": null,
   "id": "0745bee4",
   "metadata": {
    "scrolled": false
   },
   "outputs": [],
   "source": [
    "import matplotlib.pyplot as plt\n",
    "from sklearn.tree import plot_tree\n",
    "\n",
    "valmap = {\n",
    "    \"rooms\": \"number of rooms\",\n",
    "    \"size\": \"living area\",\n",
    "    \"latitude\": \"latitude\",\n",
    "    \"longitude\": \"longitude\",\n",
    "    \"floor\": \"floor\",\n",
    "    \"floors\": \"number of floors\",\n",
    "    \"year_built\": \"year of construction\",\n",
    "    \"balcony\": \"balcony\",\n",
    "    \"parking\": \"parking space\",\n",
    "    \"separate_kitchen\": \"separate kitchen\",\n",
    "    \"storage\": \"storage\",\n",
    "    \"building_material_cegla\": \"building material - brick\",\n",
    "    \"building_material_beton\": \"building material - concrete\",\n",
    "    \"building_material_inny\": \"building material - other\",\n",
    "    \"building_material_wielka plyta\": \"building material - plattenbau\",\n",
    "    \"building_type_apartamentowiec\": \"building type - apartmenthouse\",\n",
    "    \"building_type_blok\": \"building type - block of flats\",\n",
    "    \"building_type_inny\": \"building type - other\",\n",
    "    \"building_type_kamienica\": \"building type - tenement\",\n",
    "    \"windows_drewniane\": \"windows - wooden\",\n",
    "    \"standard_wysoki\": \"standard - high\",\n",
    "    \"windows_plastikowe\": \"windows - plastic\",\n",
    "}\n",
    "\n",
    "x_c = X_train_coord.copy()\n",
    "x_c.rename(columns=valmap, inplace=True)\n",
    "x_c['variable'] = x_c['variable_dirty'].map(valmap)\n",
    "fig = plt.figure(figsize=(15, 10))\n",
    "plot_tree(\n",
    "    model_random_forest_coords.estimators_[0], \n",
    "    max_depth=2,\n",
    "    feature_names=x_c.columns,\n",
    "    class_names=y_train.name, \n",
    "    filled=True, \n",
    "    impurity=True, \n",
    "    rounded=True,\n",
    "    fontsize=10,\n",
    ")"
   ]
  },
  {
   "cell_type": "markdown",
   "id": "0f10d755",
   "metadata": {},
   "source": [
    "Features importance"
   ]
  },
  {
   "cell_type": "code",
   "execution_count": null,
   "id": "3fb3cd56",
   "metadata": {
    "scrolled": false
   },
   "outputs": [],
   "source": [
    "feature_importance_coords = model_random_forest_coords.feature_importances_\n",
    "cols = X_train_coord.columns\n",
    "\n",
    "fi_rf = pd.DataFrame({\"variable_dirty\":cols,\"feature importance\":feature_importance_coords})\n",
    "fi_rf\n",
    "\n",
    "valmap = {\n",
    "    \"rooms\": \"number of rooms\",\n",
    "    \"size\": \"living area\",\n",
    "    \"latitude\": \"latitude\",\n",
    "    \"longitude\": \"longitude\",\n",
    "    \"floor\": \"floor\",\n",
    "    \"floors\": \"number of floors\",\n",
    "    \"year_built\": \"year of construction\",\n",
    "    \"balcony\": \"balcony\",\n",
    "    \"parking\": \"parking space\",\n",
    "    \"separate_kitchen\": \"separate kitchen\",\n",
    "    \"storage\": \"storage\",\n",
    "    \"building_material_cegla\": \"building material - brick\",\n",
    "    \"building_material_beton\": \"building material - concrete\",\n",
    "    \"building_material_inny\": \"building material - other\",\n",
    "    \"building_material_wielka plyta\": \"building material - plattenbau\",\n",
    "    \"building_type_apartamentowiec\": \"building type - apartmenthouse\",\n",
    "    \"building_type_blok\": \"building type - block of flats\",\n",
    "    \"building_type_inny\": \"building type - other\",\n",
    "    \"building_type_kamienica\": \"building type - tenement\",\n",
    "    \"windows_drewniane\": \"windows - wooden\",\n",
    "    \"standard_wysoki\": \"standard - high\",\n",
    "    \"windows_plastikowe\": \"windows - plastic\",\n",
    "}\n",
    "\n",
    "fi_rf['variable'] = fi_rf['variable_dirty'].map(valmap)\n",
    "\n",
    "\n",
    "def plot_feature_importance(df, title):\n",
    "    fig = go.Figure()\n",
    "    fig.add_trace(go.Bar(\n",
    "        x=df[\"feature importance\"],\n",
    "        y=df[\"variable\"],\n",
    "        orientation='h',\n",
    "    ))\n",
    "    fig.update_layout(\n",
    "        title=title,\n",
    "        xaxis_title=\"Feature importance (MDI)\",\n",
    "        yaxis_title=\"\",\n",
    "        font_family=\"Times New Roman\",\n",
    "        yaxis_tickformat = '000',\n",
    "        xaxis_tickformat = '000',\n",
    "        paper_bgcolor=\"white\",\n",
    "        plot_bgcolor=\"white\",\n",
    "        yaxis = dict(titlefont = dict(size=30)),\n",
    "        xaxis = dict(titlefont = dict(size=20)),\n",
    "    )\n",
    "    fig.update_xaxes(showline=True, linewidth=1, linecolor='black')\n",
    "    fig.update_yaxes(showline=True, linewidth=1, linecolor='black')\n",
    "    fig.show()\n",
    "    \n",
    "plot_feature_importance(fi_rf.sort_values(\"feature importance\", ascending=True), \"Absolute location\")"
   ]
  },
  {
   "cell_type": "code",
   "execution_count": null,
   "id": "7d9dae20",
   "metadata": {},
   "outputs": [],
   "source": [
    "metrics_table = eval_metrics(metrics_table, \"coords_random_forest\", y_test, preds_random_forest_coords)"
   ]
  },
  {
   "cell_type": "code",
   "execution_count": null,
   "id": "dfc89c74",
   "metadata": {},
   "outputs": [],
   "source": [
    "pickle.dump(model_random_forest_coords, open(\"model_random_forest_coords.pkl\", 'wb'))"
   ]
  },
  {
   "cell_type": "markdown",
   "id": "49342534",
   "metadata": {},
   "source": [
    "#### Spatial RF"
   ]
  },
  {
   "cell_type": "code",
   "execution_count": null,
   "id": "7bfd3aa7",
   "metadata": {},
   "outputs": [],
   "source": [
    "from sklearn.ensemble import RandomForestRegressor\n",
    "\n",
    "param_grid_random_forest_spatial = {\n",
    "    'max_depth': [5, 10, 25, 50, 100],\n",
    "    'max_features': ['sqrt', 'auto'],\n",
    "    'min_samples_leaf': [5, 10, 25],\n",
    "    'min_samples_split': [10, 25, 50],\n",
    "    'n_estimators': [100, 500, 1000, 1500]\n",
    "}\n",
    "\n",
    "grid_search_random_forest_spatial = parameters_tuning(X_train_spatial, RandomForestRegressor(), param_grid_random_forest_spatial)"
   ]
  },
  {
   "cell_type": "code",
   "execution_count": null,
   "id": "34a6985a",
   "metadata": {},
   "outputs": [],
   "source": [
    "model_random_forest_spatial = RandomForestRegressor(**grid_search_random_forest_spatial.best_params_)\n",
    "model_random_forest_spatial.fit(X_train_spatial, y_train)\n",
    "preds_random_forest_spatial = model_random_forest_spatial.predict(X_test_spatial)"
   ]
  },
  {
   "cell_type": "code",
   "execution_count": null,
   "id": "3c4d74ed",
   "metadata": {},
   "outputs": [],
   "source": [
    "plot_scatter(\"Relative location\", y_test, preds_random_forest_spatial)"
   ]
  },
  {
   "cell_type": "code",
   "execution_count": null,
   "id": "49ef90c8",
   "metadata": {},
   "outputs": [],
   "source": [
    "grid_search_random_forest_spatial.best_params_"
   ]
  },
  {
   "cell_type": "code",
   "execution_count": null,
   "id": "5298f99a",
   "metadata": {},
   "outputs": [],
   "source": [
    "plot_histogram(\"Relative location\", y_test, preds_random_forest_spatial)"
   ]
  },
  {
   "cell_type": "code",
   "execution_count": null,
   "id": "65b34e1b",
   "metadata": {},
   "outputs": [],
   "source": [
    "import matplotlib.pyplot as plt\n",
    "from sklearn.tree import plot_tree\n",
    "\n",
    "valmap = {\n",
    "    \"rooms\": \"number of rooms\",\n",
    "    \"size\": \"living area\",\n",
    "    \"floor\": \"floor\",\n",
    "    \"floors\": \"number of floors\",\n",
    "    \"year_built\": \"year of construction\",\n",
    "    \"balcony\": \"balcony\",\n",
    "    \"parking\": \"parking space\",\n",
    "    \"separate_kitchen\": \"separate kitchen\",\n",
    "    \"storage\": \"storage\",\n",
    "    \"building_material_cegla\": \"building material - brick\",\n",
    "    \"building_material_beton\": \"building material - concrete\",\n",
    "    \"building_material_inny\": \"building material - other\",\n",
    "    \"building_material_wielka plyta\": \"building material - plattenbau\",\n",
    "    \"building_type_apartamentowiec\": \"building type - apartmenthouse\",\n",
    "    \"building_type_blok\": \"building type - block of flats\",\n",
    "    \"building_type_inny\": \"building type - other\",\n",
    "    \"building_type_kamienica\": \"building type - tenement\",\n",
    "    \"windows_drewniane\": \"windows - wooden\",\n",
    "    \"standard_wysoki\": \"standard - high\",\n",
    "    \"windows_plastikowe\": \"windows - plastic\",\n",
    "    \"city_warszawa\": \"city - Warsaw\",\n",
    "    \"city_poznan\": \"city - Poznań\",\n",
    "    \"city_wroclaw\": \"city - Wrocław\",\n",
    "    \"city_krakow\": \"city - Kraków\",\n",
    "    \"city_gdansk\": \"city - Gdańsk\",\n",
    "    \"city_gdynia\": \"city - Gdynia\",\n",
    "    \"city_lublin\": \"city - Lublin\",\n",
    "    \"city_katowice\": \"city - Katowice\",\n",
    "    \"city_szczecin\": \"city - Szczecin\",\n",
    "    \"city_lodz\": \"city - Łódź\",\n",
    "    \"city_bialystok\": \"city - Białystok\",\n",
    "    \"competition500m\": \"competitive offers nearby\",\n",
    "    \"distance_to_centre\": \"distance to city centre\",\n",
    "}\n",
    "\n",
    "x_c = X_train_spatial.copy()\n",
    "x_c.rename(columns=valmap, inplace=True)\n",
    "x_c['variable'] = x_c['variable_dirty'].map(valmap)\n",
    "fig = plt.figure(figsize=(15, 10))\n",
    "plot_tree(\n",
    "    model_random_forest_spatial.estimators_[0], \n",
    "    max_depth=2,\n",
    "    feature_names=x_c.columns,\n",
    "    class_names=y_train.name, \n",
    "    filled=True, \n",
    "    impurity=True, \n",
    "    rounded=True,\n",
    "    fontsize=10,\n",
    ")"
   ]
  },
  {
   "cell_type": "code",
   "execution_count": null,
   "id": "ca01aa04",
   "metadata": {},
   "outputs": [],
   "source": [
    "feature_importance_spatial = model_random_forest_spatial.feature_importances_\n",
    "cols = X_train_spatial.columns\n",
    "\n",
    "fi_rf = pd.DataFrame({\"variable_dirty\":cols,\"feature importance\":feature_importance_spatial})\n",
    "fi_rf\n",
    "\n",
    "valmap = {\n",
    "    \"rooms\": \"number of rooms\",\n",
    "    \"size\": \"living area\",\n",
    "    \"floor\": \"floor\",\n",
    "    \"floors\": \"number of floors\",\n",
    "    \"year_built\": \"year of construction\",\n",
    "    \"balcony\": \"balcony\",\n",
    "    \"parking\": \"parking space\",\n",
    "    \"separate_kitchen\": \"separate kitchen\",\n",
    "    \"storage\": \"storage\",\n",
    "    \"building_material_cegla\": \"building material - brick\",\n",
    "    \"building_material_beton\": \"building material - concrete\",\n",
    "    \"building_material_inny\": \"building material - other\",\n",
    "    \"building_material_wielka plyta\": \"building material - plattenbau\",\n",
    "    \"building_type_apartamentowiec\": \"building type - apartmenthouse\",\n",
    "    \"building_type_blok\": \"building type - block of flats\",\n",
    "    \"building_type_inny\": \"building type - other\",\n",
    "    \"building_type_kamienica\": \"building type - tenement\",\n",
    "    \"windows_drewniane\": \"windows - wooden\",\n",
    "    \"standard_wysoki\": \"standard - high\",\n",
    "    \"windows_plastikowe\": \"windows - plastic\",\n",
    "    \"city_warszawa\": \"city - Warsaw\",\n",
    "    \"city_poznan\": \"city - Poznań\",\n",
    "    \"city_wroclaw\": \"city - Wrocław\",\n",
    "    \"city_krakow\": \"city - Kraków\",\n",
    "    \"city_gdansk\": \"city - Gdańsk\",\n",
    "    \"city_gdynia\": \"city - Gdynia\",\n",
    "    \"city_lublin\": \"city - Lublin\",\n",
    "    \"city_katowice\": \"city - Katowice\",\n",
    "    \"city_szczecin\": \"city - Szczecin\",\n",
    "    \"city_lodz\": \"city - Łódź\",\n",
    "    \"city_bialystok\": \"city - Białystok\",\n",
    "    \"competition500m\": \"competitive offers nearby\",\n",
    "    \"distance_to_centre\": \"distance to city centre\",\n",
    "}\n",
    "\n",
    "fi_rf['variable'] = fi_rf['variable_dirty'].map(valmap)\n",
    "\n",
    "\n",
    "def plot_feature_importance(df, title):\n",
    "    fig = go.Figure()\n",
    "    fig.add_trace(go.Bar(\n",
    "        x=df[\"feature importance\"],\n",
    "        y=df[\"variable\"],\n",
    "        orientation='h',\n",
    "    ))\n",
    "    fig.update_layout(\n",
    "        height=800,\n",
    "        title=title,\n",
    "        xaxis_title=\"Feature importance (MDI)\",\n",
    "        yaxis_title=\"\",\n",
    "        font_family=\"Times New Roman\",\n",
    "        yaxis_tickformat = '000',\n",
    "        xaxis_tickformat = '000',\n",
    "        paper_bgcolor=\"white\",\n",
    "        plot_bgcolor=\"white\",\n",
    "        yaxis = dict(titlefont = dict(size=30)),\n",
    "        xaxis = dict(titlefont = dict(size=20)),\n",
    "    )\n",
    "    fig.update_xaxes(showline=True, linewidth=1, linecolor='black')\n",
    "    fig.update_yaxes(showline=True, linewidth=1, linecolor='black')\n",
    "    fig.show()\n",
    "    \n",
    "plot_feature_importance(fi_rf.sort_values(\"feature importance\", ascending=True), \"Relative location\")"
   ]
  },
  {
   "cell_type": "code",
   "execution_count": null,
   "id": "2fc736a3",
   "metadata": {},
   "outputs": [],
   "source": [
    "metrics_table = eval_metrics(metrics_table, \"spatial_random_forest\", y_test, preds_random_forest_spatial)"
   ]
  },
  {
   "cell_type": "code",
   "execution_count": null,
   "id": "aebe3da6",
   "metadata": {},
   "outputs": [],
   "source": [
    "pickle.dump(model_random_forest_spatial, open(\"model_random_forest_spatial.pkl\", 'wb'))"
   ]
  },
  {
   "cell_type": "markdown",
   "id": "15d53a39",
   "metadata": {},
   "source": [
    "## XGBoost"
   ]
  },
  {
   "cell_type": "markdown",
   "id": "388e1f21",
   "metadata": {},
   "source": [
    "#### Coord XGB"
   ]
  },
  {
   "cell_type": "code",
   "execution_count": null,
   "id": "7a0faa4c",
   "metadata": {},
   "outputs": [],
   "source": [
    "from xgboost import XGBRegressor\n",
    "\n",
    "param_grid_xgboost_coord = [\n",
    "    {\n",
    "        'learning_rate': [0.01, 0.1, 0.2],\n",
    "        'max_depth': [5, 10, 25, 50, 100],\n",
    "        'min_child_weight ': [3, 5, 10],\n",
    "        'colsample_bytree': [0.5, 0.6, 0.7],\n",
    "        'subsample ': [0.6, 0.75, 0.9],\n",
    "        'n_estimators': [500],\n",
    "        \"early_stopping_rounds\": [50],\n",
    "    },\n",
    "        {\n",
    "        'learning_rate': [0.01, 0.1, 0.2],\n",
    "        'max_depth': [5, 10, 25, 50, 100],\n",
    "        'min_child_weight ': [3, 5, 10],\n",
    "        'colsample_bytree': [0.5, 0.6, 0.7],\n",
    "        'subsample ': [0.6, 0.75, 0.9],\n",
    "        'n_estimators': [1000],\n",
    "        \"early_stopping_rounds\": [100],\n",
    "    },\n",
    "        {\n",
    "        'learning_rate': [0.01, 0.1, 0.2],\n",
    "        'max_depth': [5, 10, 25, 50, 100],\n",
    "        'min_child_weight ': [3, 5, 10],\n",
    "        'colsample_bytree': [0.5, 0.6, 0.7],\n",
    "        'subsample ': [0.6, 0.75, 0.9],\n",
    "        'n_estimators': [1500],\n",
    "        \"early_stopping_rounds\": [150],\n",
    "    },\n",
    "]\n",
    "\n",
    "grid_search_xgboost_coord = parameters_tuning(X_train_coord, XGBRegressor(), param_grid_xgboost_coord)"
   ]
  },
  {
   "cell_type": "code",
   "execution_count": null,
   "id": "c3ab89f7",
   "metadata": {},
   "outputs": [],
   "source": [
    "model_xgboost_coord = XGBRegressor(**grid_search_xgboost_coord.best_params_)\n",
    "model_xgboost_coord.fit(X_train_coord, y_train)\n",
    "preds_xgboost_coord = model_xgboost_coord.predict(X_test_coord)"
   ]
  },
  {
   "cell_type": "code",
   "execution_count": null,
   "id": "eab99dc7",
   "metadata": {},
   "outputs": [],
   "source": [
    "plot_scatter(\"Absolute location\", y_test, preds_xgboost_coord)"
   ]
  },
  {
   "cell_type": "code",
   "execution_count": null,
   "id": "814754eb",
   "metadata": {
    "scrolled": false
   },
   "outputs": [],
   "source": [
    "plot_histogram(\"Absolute location\", y_test, preds_xgboost_coord)"
   ]
  },
  {
   "cell_type": "markdown",
   "id": "3f80b4fc",
   "metadata": {},
   "source": [
    "Feature importance"
   ]
  },
  {
   "cell_type": "code",
   "execution_count": null,
   "id": "1895737c",
   "metadata": {},
   "outputs": [],
   "source": [
    "feature_importance_coord = model_xgboost_coord.feature_importances_\n",
    "cols = X_train_coord.columns\n",
    "\n",
    "fi_xgb = pd.DataFrame({\"variable_dirty\":cols,\"feature importance\":feature_importance_coord})\n",
    "fi_xgb\n",
    "\n",
    "valmap = {\n",
    "    \"rooms\": \"number of rooms\",\n",
    "    \"size\": \"living area\",\n",
    "    \"latitude\": \"latitude\",\n",
    "    \"longitude\": \"longitude\",\n",
    "    \"floor\": \"floor\",\n",
    "    \"floors\": \"number of floors\",\n",
    "    \"year_built\": \"year of construction\",\n",
    "    \"balcony\": \"balcony\",\n",
    "    \"parking\": \"parking space\",\n",
    "    \"separate_kitchen\": \"separate kitchen\",\n",
    "    \"storage\": \"storage\",\n",
    "    \"building_material_cegla\": \"building material - brick\",\n",
    "    \"building_material_beton\": \"building material - concrete\",\n",
    "    \"building_material_inny\": \"building material - other\",\n",
    "    \"building_material_wielka plyta\": \"building material - plattenbau\",\n",
    "    \"building_type_apartamentowiec\": \"building type - apartmenthouse\",\n",
    "    \"building_type_blok\": \"building type - block of flats\",\n",
    "    \"building_type_inny\": \"building type - other\",\n",
    "    \"building_type_kamienica\": \"building type - tenement\",\n",
    "    \"windows_drewniane\": \"windows - wooden\",\n",
    "    \"standard_wysoki\": \"standard - high\",\n",
    "    \"windows_plastikowe\": \"windows - plastic\",\n",
    "}\n",
    "\n",
    "fi_xgb['variable'] = fi_xgb['variable_dirty'].map(valmap)\n",
    "fi_xgb  "
   ]
  },
  {
   "cell_type": "code",
   "execution_count": null,
   "id": "b4369d9c",
   "metadata": {
    "scrolled": false
   },
   "outputs": [],
   "source": [
    "def plot_feature_importance(df, title):\n",
    "    fig = go.Figure()\n",
    "    fig.add_trace(go.Bar(\n",
    "        x=df[\"feature importance\"],\n",
    "        y=df[\"variable\"],\n",
    "        orientation='h',\n",
    "    ))\n",
    "    fig.update_layout(\n",
    "        title=title,\n",
    "        xaxis_title=\"Feature importance (MDI)\",\n",
    "        yaxis_title=\"\",\n",
    "        font_family=\"Times New Roman\",\n",
    "        yaxis_tickformat = '000',\n",
    "        xaxis_tickformat = '000',\n",
    "        paper_bgcolor=\"white\",\n",
    "        plot_bgcolor=\"white\",\n",
    "        yaxis = dict(titlefont = dict(size=30)),\n",
    "        xaxis = dict(titlefont = dict(size=20)),\n",
    "    )\n",
    "    fig.update_xaxes(showline=True, linewidth=1, linecolor='black')\n",
    "    fig.update_yaxes(showline=True, linewidth=1, linecolor='black')\n",
    "    fig.show()\n",
    "    \n",
    "plot_feature_importance(fi_xgb.sort_values(\"feature importance\", ascending=True), \"Absolute location\")"
   ]
  },
  {
   "cell_type": "code",
   "execution_count": null,
   "id": "53c85bac",
   "metadata": {
    "scrolled": true
   },
   "outputs": [],
   "source": [
    "metrics_table = eval_metrics(metrics_table, \"coords_xgboost\", y_test, preds_xgboost_coord)"
   ]
  },
  {
   "cell_type": "code",
   "execution_count": null,
   "id": "d672e01d",
   "metadata": {},
   "outputs": [],
   "source": [
    "pickle.dump(model_xgboost_coord, open(\"model_xgboost_coord.pkl\", 'wb'))"
   ]
  },
  {
   "cell_type": "markdown",
   "id": "1b340282",
   "metadata": {},
   "source": [
    "#### Spatial XGB"
   ]
  },
  {
   "cell_type": "code",
   "execution_count": null,
   "id": "d716927e",
   "metadata": {},
   "outputs": [],
   "source": [
    "from xgboost import XGBRegressor\n",
    "\n",
    "param_grid_xgboost_spatial = [\n",
    "    {\n",
    "        'learning_rate': [0.01, 0.1, 0.2],\n",
    "        'max_depth': [5, 10, 25, 50, 100],\n",
    "        'min_child_weight ': [3, 5, 10],\n",
    "        'colsample_bytree': [0.5, 0.6, 0.7],\n",
    "        'subsample ': [0.6, 0.75, 0.9],\n",
    "        'n_estimators': [500],\n",
    "        \"early_stopping_rounds\": [50],\n",
    "    },\n",
    "        {\n",
    "        'learning_rate': [0.01, 0.1, 0.2],\n",
    "        'max_depth': [5, 10, 25, 50, 100],\n",
    "        'min_child_weight ': [3, 5, 10],\n",
    "        'colsample_bytree': [0.5, 0.6, 0.7],\n",
    "        'subsample ': [0.6, 0.75, 0.9],\n",
    "        'n_estimators': [1000],\n",
    "        \"early_stopping_rounds\": [100],\n",
    "    },\n",
    "        {\n",
    "        'learning_rate': [0.01, 0.1, 0.2],\n",
    "        'max_depth': [5, 10, 25, 50, 100],\n",
    "        'min_child_weight ': [3, 5, 10],\n",
    "        'colsample_bytree': [0.5, 0.6, 0.7],\n",
    "        'subsample ': [0.6, 0.75, 0.9],\n",
    "        'n_estimators': [1500],\n",
    "        \"early_stopping_rounds\": [150],\n",
    "    },\n",
    "]\n",
    "\n",
    "grid_search_xgboost_spatial = parameters_tuning(X_train_spatial, XGBRegressor(), param_grid_xgboost_spatial)"
   ]
  },
  {
   "cell_type": "code",
   "execution_count": null,
   "id": "268f255d",
   "metadata": {},
   "outputs": [],
   "source": [
    "model_xgboost_spatial = XGBRegressor(**grid_search_xgboost_spatial.best_params_)\n",
    "model_xgboost_spatial.fit(X_train_spatial, y_train)\n",
    "preds_xgboost_spatial = model_xgboost_spatial.predict(X_test_spatial)"
   ]
  },
  {
   "cell_type": "code",
   "execution_count": null,
   "id": "a630b66e",
   "metadata": {},
   "outputs": [],
   "source": [
    "plot_scatter(\"Relative location\", y_test, preds_xgboost_spatial)"
   ]
  },
  {
   "cell_type": "code",
   "execution_count": null,
   "id": "e0fb3348",
   "metadata": {},
   "outputs": [],
   "source": [
    "plot_histogram(\"Relative location\", y_test, preds_xgboost_spatial)"
   ]
  },
  {
   "cell_type": "code",
   "execution_count": null,
   "id": "1c933e64",
   "metadata": {},
   "outputs": [],
   "source": [
    "feature_importance_spatial = model_xgboost_spatial.feature_importances_\n",
    "cols = X_train_spatial.columns\n",
    "\n",
    "fi_xgb = pd.DataFrame({\"variable_dirty\":cols,\"feature importance\":feature_importance_spatial})\n",
    "fi_xgb\n",
    "\n",
    "valmap = {\n",
    "    \"rooms\": \"number of rooms\",\n",
    "    \"size\": \"living area\",\n",
    "    \"floor\": \"floor\",\n",
    "    \"floors\": \"number of floors\",\n",
    "    \"year_built\": \"year of construction\",\n",
    "    \"balcony\": \"balcony\",\n",
    "    \"parking\": \"parking space\",\n",
    "    \"separate_kitchen\": \"separate kitchen\",\n",
    "    \"storage\": \"storage\",\n",
    "    \"building_material_cegla\": \"building material - brick\",\n",
    "    \"building_material_beton\": \"building material - concrete\",\n",
    "    \"building_material_inny\": \"building material - other\",\n",
    "    \"building_material_wielka plyta\": \"building material - plattenbau\",\n",
    "    \"building_type_apartamentowiec\": \"building type - apartmenthouse\",\n",
    "    \"building_type_blok\": \"building type - block of flats\",\n",
    "    \"building_type_inny\": \"building type - other\",\n",
    "    \"building_type_kamienica\": \"building type - tenement\",\n",
    "    \"windows_drewniane\": \"windows - wooden\",\n",
    "    \"standard_wysoki\": \"standard - high\",\n",
    "    \"windows_plastikowe\": \"windows - plastic\",\n",
    "    \"city_warszawa\": \"city - Warsaw\",\n",
    "    \"city_poznan\": \"city - Poznań\",\n",
    "    \"city_wroclaw\": \"city - Wrocław\",\n",
    "    \"city_krakow\": \"city - Kraków\",\n",
    "    \"city_gdansk\": \"city - Gdańsk\",\n",
    "    \"city_gdynia\": \"city - Gdynia\",\n",
    "    \"city_lublin\": \"city - Lublin\",\n",
    "    \"city_katowice\": \"city - Katowice\",\n",
    "    \"city_szczecin\": \"city - Szczecin\",\n",
    "    \"city_lodz\": \"city - Łódź\",\n",
    "    \"city_bialystok\": \"city - Białystok\",\n",
    "    \"competition500m\": \"competitive offers nearby\",\n",
    "    \"distance_to_centre\": \"distance to city centre\",\n",
    "}\n",
    "\n",
    "fi_xgb['variable'] = fi_rf['variable_dirty'].map(valmap)\n",
    "fi_xgb  "
   ]
  },
  {
   "cell_type": "code",
   "execution_count": null,
   "id": "297bc5a0",
   "metadata": {},
   "outputs": [],
   "source": [
    "fi_xgb.sort_values(\"feature importance\", ascending=True)"
   ]
  },
  {
   "cell_type": "code",
   "execution_count": null,
   "id": "819560c5",
   "metadata": {},
   "outputs": [],
   "source": [
    "def plot_feature_importance(df, title):\n",
    "    fig = go.Figure()\n",
    "    fig.add_trace(go.Bar(\n",
    "        x=df[\"feature importance\"],\n",
    "        y=df[\"variable\"],\n",
    "        orientation='h',\n",
    "    ))\n",
    "    fig.update_layout(\n",
    "        title=title,\n",
    "        xaxis_title=\"Feature importance (MDI)\",\n",
    "        yaxis_title=\"\",\n",
    "        font_family=\"Times New Roman\",\n",
    "        yaxis_tickformat = '000',\n",
    "        xaxis_tickformat = '000',\n",
    "        paper_bgcolor=\"white\",\n",
    "        plot_bgcolor=\"white\",\n",
    "        yaxis = dict(titlefont = dict(size=30)),\n",
    "        xaxis = dict(titlefont = dict(size=20)),\n",
    "    )\n",
    "    fig.update_xaxes(showline=True, linewidth=1, linecolor='black')\n",
    "    fig.update_yaxes(showline=True, linewidth=1, linecolor='black')\n",
    "    fig.show()\n",
    "\n",
    "plot_feature_importance(fi_xgb.sort_values(\"feature importance\", ascending=True), \"Relative location\")"
   ]
  },
  {
   "cell_type": "code",
   "execution_count": null,
   "id": "5f8827b1",
   "metadata": {},
   "outputs": [],
   "source": [
    "metrics_table = eval_metrics(metrics_table, \"spatial_xgboost\", y_test, preds_xgboost_spatial)"
   ]
  },
  {
   "cell_type": "code",
   "execution_count": null,
   "id": "b4e09822",
   "metadata": {},
   "outputs": [],
   "source": [
    "pickle.dump(model_xgboost_spatial, open(\"model_xgboost_spatial.pkl\", 'wb'))"
   ]
  },
  {
   "cell_type": "markdown",
   "id": "6984c959",
   "metadata": {},
   "source": [
    "## Models comparison"
   ]
  },
  {
   "cell_type": "code",
   "execution_count": null,
   "id": "10f28a1c",
   "metadata": {
    "scrolled": true
   },
   "outputs": [],
   "source": [
    "display(metrics_table.sort_values(by=['MAPE'], ascending=False))"
   ]
  },
  {
   "cell_type": "code",
   "execution_count": null,
   "id": "fce4cd5d",
   "metadata": {},
   "outputs": [],
   "source": [
    "metrics_table.to_csv(\"metrics.csv\")"
   ]
  }
 ],
 "metadata": {
  "kernelspec": {
   "display_name": "Python 3 (ipykernel)",
   "language": "python",
   "name": "python3"
  },
  "language_info": {
   "codemirror_mode": {
    "name": "ipython",
    "version": 3
   },
   "file_extension": ".py",
   "mimetype": "text/x-python",
   "name": "python",
   "nbconvert_exporter": "python",
   "pygments_lexer": "ipython3",
   "version": "3.8.10"
  }
 },
 "nbformat": 4,
 "nbformat_minor": 5
}
